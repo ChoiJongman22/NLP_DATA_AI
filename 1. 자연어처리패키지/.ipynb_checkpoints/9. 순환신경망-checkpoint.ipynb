{
 "cells": [
  {
   "cell_type": "code",
   "execution_count": 1,
   "metadata": {},
   "outputs": [
    {
     "name": "stdout",
     "output_type": "stream",
     "text": [
      "Model: \"sequential\"\n",
      "_________________________________________________________________\n",
      "Layer (type)                 Output Shape              Param #   \n",
      "=================================================================\n",
      "simple_rnn (SimpleRNN)       (None, 3)                 42        \n",
      "=================================================================\n",
      "Total params: 42\n",
      "Trainable params: 42\n",
      "Non-trainable params: 0\n",
      "_________________________________________________________________\n"
     ]
    }
   ],
   "source": [
    "from keras.models import Sequential\n",
    "from keras.layers import SimpleRNN\n",
    "\n",
    "model=Sequential()\n",
    "model.add(SimpleRNN(3,input_shape=(2,10)))\n",
    "#model.add(SimpleRNN(3,input_length=2,input_dim=10))\n",
    "model.summary()"
   ]
  },
  {
   "cell_type": "code",
   "execution_count": 1,
   "metadata": {},
   "outputs": [
    {
     "name": "stdout",
     "output_type": "stream",
     "text": [
      "(4, 5)\n"
     ]
    }
   ],
   "source": [
    "#LSTM\n",
    "#RNN : 이전의 것들을 바탕으로 이해하고 예측하자.\n",
    "import numpy as np\n",
    "import tensorflow as tf\n",
    "from tensorflow.keras.layers import SimpleRNN,LSTM,Bidirectional\n",
    "\n",
    "train_X = [[0.1, 4.2, 1.5, 1.1, 2.8], [1.0, 3.1, 2.5, 0.7, 1.1], [0.3, 2.1, 1.5, 2.1, 0.1], [2.2, 1.4, 0.5, 0.9, 1.1]]\n",
    "print(np.shape(train_X))"
   ]
  },
  {
   "cell_type": "code",
   "execution_count": 5,
   "metadata": {},
   "outputs": [
    {
     "name": "stdout",
     "output_type": "stream",
     "text": [
      "hidden state : [[ 0.7180495  -0.96071225  0.40731433]], shape: (1, 3)\n"
     ]
    }
   ],
   "source": [
    "train_X = [[[0.1, 4.2, 1.5, 1.1, 2.8], [1.0, 3.1, 2.5, 0.7, 1.1], [0.3, 2.1, 1.5, 2.1, 0.1], [2.2, 1.4, 0.5, 0.9, 1.1]]]\n",
    "train_X = np.array(train_X, dtype=np.float32)\n",
    "rnn = SimpleRNN(3)\n",
    "# rnn = SimpleRNN(3, return_sequences=False, return_state=False)와 동일.\n",
    "hidden_state = rnn(train_X)\n",
    "\n",
    "print('hidden state : {}, shape: {}'.format(hidden_state, hidden_state.shape))"
   ]
  },
  {
   "cell_type": "code",
   "execution_count": 11,
   "metadata": {},
   "outputs": [
    {
     "name": "stdout",
     "output_type": "stream",
     "text": [
      "단어 집합의 크기 : 12\n"
     ]
    }
   ],
   "source": [
    "from tensorflow.keras.preprocessing.text import Tokenizer\n",
    "from tensorflow.keras.preprocessing.sequence import pad_sequences\n",
    "import numpy as np\n",
    "from tensorflow.keras.utils import to_categorical\n",
    "text=\"\"\"경마장에 있는 말이 뛰고 있다\\n\n",
    "그의 말이 법이다\\n\n",
    "가는 말이 고와야 오는 말이 곱다\\n\"\"\"\n",
    "t=Tokenizer()\n",
    "t.fit_on_texts([text])\n",
    "vocab_size=len(t.word_index)+1\n",
    "print('단어 집합의 크기 : %d' % vocab_size)"
   ]
  },
  {
   "cell_type": "code",
   "execution_count": 12,
   "metadata": {},
   "outputs": [
    {
     "name": "stdout",
     "output_type": "stream",
     "text": [
      "{'말이': 1, '경마장에': 2, '있는': 3, '뛰고': 4, '있다': 5, '그의': 6, '법이다': 7, '가는': 8, '고와야': 9, '오는': 10, '곱다': 11}\n"
     ]
    }
   ],
   "source": [
    "print(t.word_index)"
   ]
  },
  {
   "cell_type": "code",
   "execution_count": 14,
   "metadata": {},
   "outputs": [
    {
     "name": "stdout",
     "output_type": "stream",
     "text": [
      "학습에 사용할 샘플의 개수: 11\n"
     ]
    }
   ],
   "source": [
    "sequences=list()\n",
    "for line in text.split('\\n'):\n",
    "    encoded=t.texts_to_sequences([line])[0]\n",
    "    for i in range(1,len(encoded)):\n",
    "        sequence=encoded[:i+1]\n",
    "        sequences.append(sequence)\n",
    "print(\"학습에 사용할 샘플의 개수: %d\"%len(sequences))"
   ]
  },
  {
   "cell_type": "code",
   "execution_count": 15,
   "metadata": {},
   "outputs": [
    {
     "name": "stdout",
     "output_type": "stream",
     "text": [
      "[[2, 3], [2, 3, 1], [2, 3, 1, 4], [2, 3, 1, 4, 5], [6, 1], [6, 1, 7], [8, 1], [8, 1, 9], [8, 1, 9, 10], [8, 1, 9, 10, 1], [8, 1, 9, 10, 1, 11]]\n"
     ]
    }
   ],
   "source": [
    "print(sequences)"
   ]
  },
  {
   "cell_type": "code",
   "execution_count": 16,
   "metadata": {},
   "outputs": [
    {
     "name": "stdout",
     "output_type": "stream",
     "text": [
      "[[ 0  0  0  0  2  3]\n",
      " [ 0  0  0  2  3  1]\n",
      " [ 0  0  2  3  1  4]\n",
      " [ 0  2  3  1  4  5]\n",
      " [ 0  0  0  0  6  1]\n",
      " [ 0  0  0  6  1  7]\n",
      " [ 0  0  0  0  8  1]\n",
      " [ 0  0  0  8  1  9]\n",
      " [ 0  0  8  1  9 10]\n",
      " [ 0  8  1  9 10  1]\n",
      " [ 8  1  9 10  1 11]]\n"
     ]
    }
   ],
   "source": [
    "max_len=max(len(l) for l in sequences)#가장 긴 샘플의 길이\n",
    "sequences=pad_sequences(sequences,maxlen=max_len,padding='pre')#길이를 6으로 패딩한다.\n",
    "print(sequences)"
   ]
  },
  {
   "cell_type": "code",
   "execution_count": 17,
   "metadata": {},
   "outputs": [
    {
     "name": "stdout",
     "output_type": "stream",
     "text": [
      "[[ 0  0  0  0  2]\n",
      " [ 0  0  0  2  3]\n",
      " [ 0  0  2  3  1]\n",
      " [ 0  2  3  1  4]\n",
      " [ 0  0  0  0  6]\n",
      " [ 0  0  0  6  1]\n",
      " [ 0  0  0  0  8]\n",
      " [ 0  0  0  8  1]\n",
      " [ 0  0  8  1  9]\n",
      " [ 0  8  1  9 10]\n",
      " [ 8  1  9 10  1]]\n"
     ]
    }
   ],
   "source": [
    "sequences=np.array(sequences)\n",
    "#샘플의 마지막 단어를 레이블로 분리하자.\n",
    "X=sequences[:,:-1]\n",
    "y=sequences[:,-1]\n",
    "print(X)"
   ]
  },
  {
   "cell_type": "code",
   "execution_count": 18,
   "metadata": {},
   "outputs": [
    {
     "name": "stdout",
     "output_type": "stream",
     "text": [
      "[ 3  1  4  5  1  7  1  9 10  1 11]\n"
     ]
    }
   ],
   "source": [
    "print(y)"
   ]
  },
  {
   "cell_type": "code",
   "execution_count": 19,
   "metadata": {},
   "outputs": [
    {
     "name": "stdout",
     "output_type": "stream",
     "text": [
      "[[0. 0. 0. 1. 0. 0. 0. 0. 0. 0. 0. 0.]\n",
      " [0. 1. 0. 0. 0. 0. 0. 0. 0. 0. 0. 0.]\n",
      " [0. 0. 0. 0. 1. 0. 0. 0. 0. 0. 0. 0.]\n",
      " [0. 0. 0. 0. 0. 1. 0. 0. 0. 0. 0. 0.]\n",
      " [0. 1. 0. 0. 0. 0. 0. 0. 0. 0. 0. 0.]\n",
      " [0. 0. 0. 0. 0. 0. 0. 1. 0. 0. 0. 0.]\n",
      " [0. 1. 0. 0. 0. 0. 0. 0. 0. 0. 0. 0.]\n",
      " [0. 0. 0. 0. 0. 0. 0. 0. 0. 1. 0. 0.]\n",
      " [0. 0. 0. 0. 0. 0. 0. 0. 0. 0. 1. 0.]\n",
      " [0. 1. 0. 0. 0. 0. 0. 0. 0. 0. 0. 0.]\n",
      " [0. 0. 0. 0. 0. 0. 0. 0. 0. 0. 0. 1.]]\n"
     ]
    }
   ],
   "source": [
    "y=to_categorical(y,num_classes=vocab_size)\n",
    "print(y) #원핫인코딩으로"
   ]
  },
  {
   "cell_type": "code",
   "execution_count": 20,
   "metadata": {},
   "outputs": [
    {
     "name": "stdout",
     "output_type": "stream",
     "text": [
      "Epoch 1/200\n",
      "1/1 - 2s - loss: 2.4855 - accuracy: 0.2727\n",
      "Epoch 2/200\n",
      "1/1 - 0s - loss: 2.4718 - accuracy: 0.2727\n",
      "Epoch 3/200\n",
      "1/1 - 0s - loss: 2.4580 - accuracy: 0.3636\n",
      "Epoch 4/200\n",
      "1/1 - 0s - loss: 2.4439 - accuracy: 0.4545\n",
      "Epoch 5/200\n",
      "1/1 - 0s - loss: 2.4296 - accuracy: 0.4545\n",
      "Epoch 6/200\n",
      "1/1 - 0s - loss: 2.4149 - accuracy: 0.3636\n",
      "Epoch 7/200\n",
      "1/1 - 0s - loss: 2.3998 - accuracy: 0.3636\n",
      "Epoch 8/200\n",
      "1/1 - 0s - loss: 2.3841 - accuracy: 0.3636\n",
      "Epoch 9/200\n",
      "1/1 - 0s - loss: 2.3678 - accuracy: 0.3636\n",
      "Epoch 10/200\n",
      "1/1 - 0s - loss: 2.3509 - accuracy: 0.4545\n",
      "Epoch 11/200\n",
      "1/1 - 0s - loss: 2.3334 - accuracy: 0.4545\n",
      "Epoch 12/200\n",
      "1/1 - 0s - loss: 2.3150 - accuracy: 0.4545\n",
      "Epoch 13/200\n",
      "1/1 - 0s - loss: 2.2960 - accuracy: 0.4545\n",
      "Epoch 14/200\n",
      "1/1 - 0s - loss: 2.2761 - accuracy: 0.4545\n",
      "Epoch 15/200\n",
      "1/1 - 0s - loss: 2.2555 - accuracy: 0.4545\n",
      "Epoch 16/200\n",
      "1/1 - 0s - loss: 2.2341 - accuracy: 0.4545\n",
      "Epoch 17/200\n",
      "1/1 - 0s - loss: 2.2119 - accuracy: 0.4545\n",
      "Epoch 18/200\n",
      "1/1 - 0s - loss: 2.1890 - accuracy: 0.4545\n",
      "Epoch 19/200\n",
      "1/1 - 0s - loss: 2.1655 - accuracy: 0.4545\n",
      "Epoch 20/200\n",
      "1/1 - 0s - loss: 2.1415 - accuracy: 0.4545\n",
      "Epoch 21/200\n",
      "1/1 - 0s - loss: 2.1171 - accuracy: 0.4545\n",
      "Epoch 22/200\n",
      "1/1 - 0s - loss: 2.0925 - accuracy: 0.4545\n",
      "Epoch 23/200\n",
      "1/1 - 0s - loss: 2.0678 - accuracy: 0.4545\n",
      "Epoch 24/200\n",
      "1/1 - 0s - loss: 2.0433 - accuracy: 0.4545\n",
      "Epoch 25/200\n",
      "1/1 - 0s - loss: 2.0192 - accuracy: 0.4545\n",
      "Epoch 26/200\n",
      "1/1 - 0s - loss: 1.9957 - accuracy: 0.4545\n",
      "Epoch 27/200\n",
      "1/1 - 0s - loss: 1.9729 - accuracy: 0.4545\n",
      "Epoch 28/200\n",
      "1/1 - 0s - loss: 1.9511 - accuracy: 0.4545\n",
      "Epoch 29/200\n",
      "1/1 - 0s - loss: 1.9305 - accuracy: 0.4545\n",
      "Epoch 30/200\n",
      "1/1 - 0s - loss: 1.9110 - accuracy: 0.4545\n",
      "Epoch 31/200\n",
      "1/1 - 0s - loss: 1.8929 - accuracy: 0.4545\n",
      "Epoch 32/200\n",
      "1/1 - 0s - loss: 1.8759 - accuracy: 0.3636\n",
      "Epoch 33/200\n",
      "1/1 - 0s - loss: 1.8600 - accuracy: 0.3636\n",
      "Epoch 34/200\n",
      "1/1 - 0s - loss: 1.8452 - accuracy: 0.3636\n",
      "Epoch 35/200\n",
      "1/1 - 0s - loss: 1.8311 - accuracy: 0.3636\n",
      "Epoch 36/200\n",
      "1/1 - 0s - loss: 1.8176 - accuracy: 0.3636\n",
      "Epoch 37/200\n",
      "1/1 - 0s - loss: 1.8045 - accuracy: 0.3636\n",
      "Epoch 38/200\n",
      "1/1 - 0s - loss: 1.7915 - accuracy: 0.3636\n",
      "Epoch 39/200\n",
      "1/1 - 0s - loss: 1.7786 - accuracy: 0.4545\n",
      "Epoch 40/200\n",
      "1/1 - 0s - loss: 1.7654 - accuracy: 0.4545\n",
      "Epoch 41/200\n",
      "1/1 - 0s - loss: 1.7520 - accuracy: 0.4545\n",
      "Epoch 42/200\n",
      "1/1 - 0s - loss: 1.7382 - accuracy: 0.4545\n",
      "Epoch 43/200\n",
      "1/1 - 0s - loss: 1.7241 - accuracy: 0.4545\n",
      "Epoch 44/200\n",
      "1/1 - 0s - loss: 1.7096 - accuracy: 0.4545\n",
      "Epoch 45/200\n",
      "1/1 - 0s - loss: 1.6948 - accuracy: 0.4545\n",
      "Epoch 46/200\n",
      "1/1 - 0s - loss: 1.6796 - accuracy: 0.4545\n",
      "Epoch 47/200\n",
      "1/1 - 0s - loss: 1.6641 - accuracy: 0.4545\n",
      "Epoch 48/200\n",
      "1/1 - 0s - loss: 1.6483 - accuracy: 0.4545\n",
      "Epoch 49/200\n",
      "1/1 - 0s - loss: 1.6322 - accuracy: 0.4545\n",
      "Epoch 50/200\n",
      "1/1 - 0s - loss: 1.6158 - accuracy: 0.4545\n",
      "Epoch 51/200\n",
      "1/1 - 0s - loss: 1.5991 - accuracy: 0.4545\n",
      "Epoch 52/200\n",
      "1/1 - 0s - loss: 1.5820 - accuracy: 0.4545\n",
      "Epoch 53/200\n",
      "1/1 - 0s - loss: 1.5646 - accuracy: 0.4545\n",
      "Epoch 54/200\n",
      "1/1 - 0s - loss: 1.5469 - accuracy: 0.4545\n",
      "Epoch 55/200\n",
      "1/1 - 0s - loss: 1.5288 - accuracy: 0.4545\n",
      "Epoch 56/200\n",
      "1/1 - 0s - loss: 1.5105 - accuracy: 0.4545\n",
      "Epoch 57/200\n",
      "1/1 - 0s - loss: 1.4919 - accuracy: 0.4545\n",
      "Epoch 58/200\n",
      "1/1 - 0s - loss: 1.4731 - accuracy: 0.4545\n",
      "Epoch 59/200\n",
      "1/1 - 0s - loss: 1.4542 - accuracy: 0.4545\n",
      "Epoch 60/200\n",
      "1/1 - 0s - loss: 1.4351 - accuracy: 0.4545\n",
      "Epoch 61/200\n",
      "1/1 - 0s - loss: 1.4160 - accuracy: 0.4545\n",
      "Epoch 62/200\n",
      "1/1 - 0s - loss: 1.3968 - accuracy: 0.4545\n",
      "Epoch 63/200\n",
      "1/1 - 0s - loss: 1.3776 - accuracy: 0.4545\n",
      "Epoch 64/200\n",
      "1/1 - 0s - loss: 1.3585 - accuracy: 0.4545\n",
      "Epoch 65/200\n",
      "1/1 - 0s - loss: 1.3394 - accuracy: 0.4545\n",
      "Epoch 66/200\n",
      "1/1 - 0s - loss: 1.3204 - accuracy: 0.4545\n",
      "Epoch 67/200\n",
      "1/1 - 0s - loss: 1.3014 - accuracy: 0.4545\n",
      "Epoch 68/200\n",
      "1/1 - 0s - loss: 1.2826 - accuracy: 0.5455\n",
      "Epoch 69/200\n",
      "1/1 - 0s - loss: 1.2638 - accuracy: 0.6364\n",
      "Epoch 70/200\n",
      "1/1 - 0s - loss: 1.2452 - accuracy: 0.6364\n",
      "Epoch 71/200\n",
      "1/1 - 0s - loss: 1.2267 - accuracy: 0.6364\n",
      "Epoch 72/200\n",
      "1/1 - 0s - loss: 1.2083 - accuracy: 0.6364\n",
      "Epoch 73/200\n",
      "1/1 - 0s - loss: 1.1901 - accuracy: 0.6364\n",
      "Epoch 74/200\n",
      "1/1 - 0s - loss: 1.1721 - accuracy: 0.6364\n",
      "Epoch 75/200\n",
      "1/1 - 0s - loss: 1.1542 - accuracy: 0.6364\n",
      "Epoch 76/200\n",
      "1/1 - 0s - loss: 1.1364 - accuracy: 0.6364\n",
      "Epoch 77/200\n",
      "1/1 - 0s - loss: 1.1188 - accuracy: 0.7273\n",
      "Epoch 78/200\n",
      "1/1 - 0s - loss: 1.1013 - accuracy: 0.7273\n",
      "Epoch 79/200\n",
      "1/1 - 0s - loss: 1.0840 - accuracy: 0.7273\n",
      "Epoch 80/200\n",
      "1/1 - 0s - loss: 1.0668 - accuracy: 0.7273\n",
      "Epoch 81/200\n",
      "1/1 - 0s - loss: 1.0497 - accuracy: 0.7273\n",
      "Epoch 82/200\n",
      "1/1 - 0s - loss: 1.0328 - accuracy: 0.7273\n",
      "Epoch 83/200\n",
      "1/1 - 0s - loss: 1.0161 - accuracy: 0.7273\n",
      "Epoch 84/200\n",
      "1/1 - 0s - loss: 0.9995 - accuracy: 0.7273\n",
      "Epoch 85/200\n",
      "1/1 - 0s - loss: 0.9830 - accuracy: 0.7273\n",
      "Epoch 86/200\n",
      "1/1 - 0s - loss: 0.9668 - accuracy: 0.7273\n",
      "Epoch 87/200\n",
      "1/1 - 0s - loss: 0.9507 - accuracy: 0.7273\n",
      "Epoch 88/200\n",
      "1/1 - 0s - loss: 0.9348 - accuracy: 0.7273\n",
      "Epoch 89/200\n",
      "1/1 - 0s - loss: 0.9191 - accuracy: 0.7273\n",
      "Epoch 90/200\n",
      "1/1 - 0s - loss: 0.9037 - accuracy: 0.7273\n",
      "Epoch 91/200\n",
      "1/1 - 0s - loss: 0.8884 - accuracy: 0.7273\n",
      "Epoch 92/200\n",
      "1/1 - 0s - loss: 0.8734 - accuracy: 0.7273\n",
      "Epoch 93/200\n",
      "1/1 - 0s - loss: 0.8587 - accuracy: 0.7273\n",
      "Epoch 94/200\n",
      "1/1 - 0s - loss: 0.8442 - accuracy: 0.7273\n",
      "Epoch 95/200\n",
      "1/1 - 0s - loss: 0.8299 - accuracy: 0.7273\n",
      "Epoch 96/200\n",
      "1/1 - 0s - loss: 0.8159 - accuracy: 0.7273\n",
      "Epoch 97/200\n",
      "1/1 - 0s - loss: 0.8022 - accuracy: 0.7273\n",
      "Epoch 98/200\n",
      "1/1 - 0s - loss: 0.7887 - accuracy: 0.7273\n",
      "Epoch 99/200\n",
      "1/1 - 0s - loss: 0.7755 - accuracy: 0.7273\n",
      "Epoch 100/200\n",
      "1/1 - 0s - loss: 0.7625 - accuracy: 0.7273\n",
      "Epoch 101/200\n",
      "1/1 - 0s - loss: 0.7497 - accuracy: 0.8182\n",
      "Epoch 102/200\n",
      "1/1 - 0s - loss: 0.7373 - accuracy: 0.8182\n",
      "Epoch 103/200\n",
      "1/1 - 0s - loss: 0.7250 - accuracy: 0.8182\n",
      "Epoch 104/200\n",
      "1/1 - 0s - loss: 0.7130 - accuracy: 0.8182\n",
      "Epoch 105/200\n",
      "1/1 - 0s - loss: 0.7013 - accuracy: 0.8182\n",
      "Epoch 106/200\n",
      "1/1 - 0s - loss: 0.6897 - accuracy: 0.8182\n",
      "Epoch 107/200\n",
      "1/1 - 0s - loss: 0.6784 - accuracy: 0.8182\n",
      "Epoch 108/200\n",
      "1/1 - 0s - loss: 0.6674 - accuracy: 0.8182\n",
      "Epoch 109/200\n",
      "1/1 - 0s - loss: 0.6565 - accuracy: 0.8182\n",
      "Epoch 110/200\n",
      "1/1 - 0s - loss: 0.6459 - accuracy: 0.9091\n",
      "Epoch 111/200\n",
      "1/1 - 0s - loss: 0.6354 - accuracy: 0.9091\n",
      "Epoch 112/200\n",
      "1/1 - 0s - loss: 0.6252 - accuracy: 0.9091\n",
      "Epoch 113/200\n",
      "1/1 - 0s - loss: 0.6153 - accuracy: 0.9091\n",
      "Epoch 114/200\n",
      "1/1 - 0s - loss: 0.6055 - accuracy: 0.9091\n",
      "Epoch 115/200\n",
      "1/1 - 0s - loss: 0.5959 - accuracy: 0.9091\n",
      "Epoch 116/200\n",
      "1/1 - 0s - loss: 0.5866 - accuracy: 0.9091\n",
      "Epoch 117/200\n",
      "1/1 - 0s - loss: 0.5774 - accuracy: 0.9091\n",
      "Epoch 118/200\n",
      "1/1 - 0s - loss: 0.5684 - accuracy: 0.9091\n",
      "Epoch 119/200\n",
      "1/1 - 0s - loss: 0.5597 - accuracy: 0.9091\n",
      "Epoch 120/200\n",
      "1/1 - 0s - loss: 0.5511 - accuracy: 0.9091\n",
      "Epoch 121/200\n",
      "1/1 - 0s - loss: 0.5427 - accuracy: 0.9091\n",
      "Epoch 122/200\n",
      "1/1 - 0s - loss: 0.5345 - accuracy: 0.9091\n",
      "Epoch 123/200\n",
      "1/1 - 0s - loss: 0.5265 - accuracy: 0.9091\n",
      "Epoch 124/200\n",
      "1/1 - 0s - loss: 0.5187 - accuracy: 0.9091\n",
      "Epoch 125/200\n",
      "1/1 - 0s - loss: 0.5110 - accuracy: 0.9091\n",
      "Epoch 126/200\n",
      "1/1 - 0s - loss: 0.5036 - accuracy: 0.9091\n",
      "Epoch 127/200\n",
      "1/1 - 0s - loss: 0.4962 - accuracy: 0.9091\n",
      "Epoch 128/200\n",
      "1/1 - 0s - loss: 0.4891 - accuracy: 0.9091\n",
      "Epoch 129/200\n",
      "1/1 - 0s - loss: 0.4821 - accuracy: 0.9091\n",
      "Epoch 130/200\n",
      "1/1 - 0s - loss: 0.4753 - accuracy: 0.9091\n",
      "Epoch 131/200\n",
      "1/1 - 0s - loss: 0.4686 - accuracy: 0.9091\n",
      "Epoch 132/200\n",
      "1/1 - 0s - loss: 0.4620 - accuracy: 0.9091\n",
      "Epoch 133/200\n",
      "1/1 - 0s - loss: 0.4557 - accuracy: 0.9091\n",
      "Epoch 134/200\n",
      "1/1 - 0s - loss: 0.4494 - accuracy: 0.9091\n",
      "Epoch 135/200\n",
      "1/1 - 0s - loss: 0.4433 - accuracy: 0.9091\n",
      "Epoch 136/200\n",
      "1/1 - 0s - loss: 0.4373 - accuracy: 0.9091\n",
      "Epoch 137/200\n",
      "1/1 - 0s - loss: 0.4315 - accuracy: 0.9091\n",
      "Epoch 138/200\n",
      "1/1 - 0s - loss: 0.4258 - accuracy: 0.9091\n",
      "Epoch 139/200\n",
      "1/1 - 0s - loss: 0.4201 - accuracy: 0.9091\n",
      "Epoch 140/200\n",
      "1/1 - 0s - loss: 0.4147 - accuracy: 0.9091\n",
      "Epoch 141/200\n",
      "1/1 - 0s - loss: 0.4093 - accuracy: 0.9091\n",
      "Epoch 142/200\n",
      "1/1 - 0s - loss: 0.4040 - accuracy: 0.9091\n",
      "Epoch 143/200\n",
      "1/1 - 0s - loss: 0.3989 - accuracy: 0.9091\n",
      "Epoch 144/200\n",
      "1/1 - 0s - loss: 0.3938 - accuracy: 0.9091\n",
      "Epoch 145/200\n",
      "1/1 - 0s - loss: 0.3889 - accuracy: 0.9091\n",
      "Epoch 146/200\n",
      "1/1 - 0s - loss: 0.3840 - accuracy: 0.9091\n"
     ]
    },
    {
     "name": "stdout",
     "output_type": "stream",
     "text": [
      "Epoch 147/200\n",
      "1/1 - 0s - loss: 0.3792 - accuracy: 0.9091\n",
      "Epoch 148/200\n",
      "1/1 - 0s - loss: 0.3746 - accuracy: 0.9091\n",
      "Epoch 149/200\n",
      "1/1 - 0s - loss: 0.3700 - accuracy: 0.9091\n",
      "Epoch 150/200\n",
      "1/1 - 0s - loss: 0.3655 - accuracy: 0.9091\n",
      "Epoch 151/200\n",
      "1/1 - 0s - loss: 0.3611 - accuracy: 0.9091\n",
      "Epoch 152/200\n",
      "1/1 - 0s - loss: 0.3567 - accuracy: 0.9091\n",
      "Epoch 153/200\n",
      "1/1 - 0s - loss: 0.3525 - accuracy: 0.9091\n",
      "Epoch 154/200\n",
      "1/1 - 0s - loss: 0.3483 - accuracy: 0.9091\n",
      "Epoch 155/200\n",
      "1/1 - 0s - loss: 0.3442 - accuracy: 1.0000\n",
      "Epoch 156/200\n",
      "1/1 - 0s - loss: 0.3401 - accuracy: 1.0000\n",
      "Epoch 157/200\n",
      "1/1 - 0s - loss: 0.3362 - accuracy: 1.0000\n",
      "Epoch 158/200\n",
      "1/1 - 0s - loss: 0.3322 - accuracy: 1.0000\n",
      "Epoch 159/200\n",
      "1/1 - 0s - loss: 0.3284 - accuracy: 1.0000\n",
      "Epoch 160/200\n",
      "1/1 - 0s - loss: 0.3246 - accuracy: 1.0000\n",
      "Epoch 161/200\n",
      "1/1 - 0s - loss: 0.3209 - accuracy: 1.0000\n",
      "Epoch 162/200\n",
      "1/1 - 0s - loss: 0.3172 - accuracy: 1.0000\n",
      "Epoch 163/200\n",
      "1/1 - 0s - loss: 0.3136 - accuracy: 1.0000\n",
      "Epoch 164/200\n",
      "1/1 - 0s - loss: 0.3100 - accuracy: 1.0000\n",
      "Epoch 165/200\n",
      "1/1 - 0s - loss: 0.3065 - accuracy: 1.0000\n",
      "Epoch 166/200\n",
      "1/1 - 0s - loss: 0.3031 - accuracy: 1.0000\n",
      "Epoch 167/200\n",
      "1/1 - 0s - loss: 0.2997 - accuracy: 1.0000\n",
      "Epoch 168/200\n",
      "1/1 - 0s - loss: 0.2963 - accuracy: 1.0000\n",
      "Epoch 169/200\n",
      "1/1 - 0s - loss: 0.2930 - accuracy: 1.0000\n",
      "Epoch 170/200\n",
      "1/1 - 0s - loss: 0.2898 - accuracy: 1.0000\n",
      "Epoch 171/200\n",
      "1/1 - 0s - loss: 0.2865 - accuracy: 1.0000\n",
      "Epoch 172/200\n",
      "1/1 - 0s - loss: 0.2834 - accuracy: 1.0000\n",
      "Epoch 173/200\n",
      "1/1 - 0s - loss: 0.2802 - accuracy: 1.0000\n",
      "Epoch 174/200\n",
      "1/1 - 0s - loss: 0.2771 - accuracy: 1.0000\n",
      "Epoch 175/200\n",
      "1/1 - 0s - loss: 0.2741 - accuracy: 1.0000\n",
      "Epoch 176/200\n",
      "1/1 - 0s - loss: 0.2711 - accuracy: 1.0000\n",
      "Epoch 177/200\n",
      "1/1 - 0s - loss: 0.2681 - accuracy: 1.0000\n",
      "Epoch 178/200\n",
      "1/1 - 0s - loss: 0.2651 - accuracy: 1.0000\n",
      "Epoch 179/200\n",
      "1/1 - 0s - loss: 0.2622 - accuracy: 1.0000\n",
      "Epoch 180/200\n",
      "1/1 - 0s - loss: 0.2594 - accuracy: 1.0000\n",
      "Epoch 181/200\n",
      "1/1 - 0s - loss: 0.2565 - accuracy: 1.0000\n",
      "Epoch 182/200\n",
      "1/1 - 0s - loss: 0.2537 - accuracy: 1.0000\n",
      "Epoch 183/200\n",
      "1/1 - 0s - loss: 0.2509 - accuracy: 1.0000\n",
      "Epoch 184/200\n",
      "1/1 - 0s - loss: 0.2482 - accuracy: 1.0000\n",
      "Epoch 185/200\n",
      "1/1 - 0s - loss: 0.2455 - accuracy: 1.0000\n",
      "Epoch 186/200\n",
      "1/1 - 0s - loss: 0.2428 - accuracy: 1.0000\n",
      "Epoch 187/200\n",
      "1/1 - 0s - loss: 0.2401 - accuracy: 1.0000\n",
      "Epoch 188/200\n",
      "1/1 - 0s - loss: 0.2375 - accuracy: 1.0000\n",
      "Epoch 189/200\n",
      "1/1 - 0s - loss: 0.2349 - accuracy: 1.0000\n",
      "Epoch 190/200\n",
      "1/1 - 0s - loss: 0.2323 - accuracy: 1.0000\n",
      "Epoch 191/200\n",
      "1/1 - 0s - loss: 0.2297 - accuracy: 1.0000\n",
      "Epoch 192/200\n",
      "1/1 - 0s - loss: 0.2272 - accuracy: 1.0000\n",
      "Epoch 193/200\n",
      "1/1 - 0s - loss: 0.2247 - accuracy: 1.0000\n",
      "Epoch 194/200\n",
      "1/1 - 0s - loss: 0.2222 - accuracy: 1.0000\n",
      "Epoch 195/200\n",
      "1/1 - 0s - loss: 0.2197 - accuracy: 1.0000\n",
      "Epoch 196/200\n",
      "1/1 - 0s - loss: 0.2172 - accuracy: 1.0000\n",
      "Epoch 197/200\n",
      "1/1 - 0s - loss: 0.2148 - accuracy: 1.0000\n",
      "Epoch 198/200\n",
      "1/1 - 0s - loss: 0.2124 - accuracy: 1.0000\n",
      "Epoch 199/200\n",
      "1/1 - 0s - loss: 0.2100 - accuracy: 1.0000\n",
      "Epoch 200/200\n",
      "1/1 - 0s - loss: 0.2076 - accuracy: 1.0000\n"
     ]
    },
    {
     "data": {
      "text/plain": [
       "<tensorflow.python.keras.callbacks.History at 0x25e8bac77c0>"
      ]
     },
     "execution_count": 20,
     "metadata": {},
     "output_type": "execute_result"
    }
   ],
   "source": [
    "#모델 설계하기\n",
    "from tensorflow.keras.models import Sequential\n",
    "from tensorflow.keras.layers import Embedding,Dense,SimpleRNN\n",
    "model=Sequential()\n",
    "model.add(Embedding(vocab_size,10,input_length=max_len-1))#레이블을 분리했으므로 이제 X의 길이는 5\n",
    "model.add(SimpleRNN(32))\n",
    "model.add(Dense(vocab_size,activation='softmax'))\n",
    "model.compile(loss='categorical_crossentropy',optimizer='adam',metrics=['accuracy'])\n",
    "model.fit(X,y,epochs=200,verbose=2)"
   ]
  },
  {
   "cell_type": "code",
   "execution_count": 21,
   "metadata": {},
   "outputs": [
    {
     "name": "stderr",
     "output_type": "stream",
     "text": [
      "C:\\ProgramData\\Anaconda3\\lib\\site-packages\\tensorflow\\python\\keras\\engine\\sequential.py:450: UserWarning: `model.predict_classes()` is deprecated and will be removed after 2021-01-01. Please use instead:* `np.argmax(model.predict(x), axis=-1)`,   if your model does multi-class classification   (e.g. if it uses a `softmax` last-layer activation).* `(model.predict(x) > 0.5).astype(\"int32\")`,   if your model does binary classification   (e.g. if it uses a `sigmoid` last-layer activation).\n",
      "  warnings.warn('`model.predict_classes()` is deprecated and '\n"
     ]
    },
    {
     "name": "stdout",
     "output_type": "stream",
     "text": [
      "경마장에 있는 말이 뛰고 있다\n"
     ]
    }
   ],
   "source": [
    "def sentence_generation(model,t,current_word,n):#모델,토크나이저, 현재단어, 반복할 횟수\n",
    "    init_word=current_word\n",
    "    sentence=''\n",
    "    for _ in range(n):#n번번복\n",
    "        encoded=t.texts_to_sequences([current_word])[0] #현재 단어에 대한 정수 인코딩\n",
    "        encoded=pad_sequences([encoded],maxlen=5,padding='pre')#데이터에 대한 패딩\n",
    "        result=model.predict_classes(encoded,verbose=0)\n",
    "        for word, index in t.word_index.items():\n",
    "            if index==result:\n",
    "                break\n",
    "        current_word=current_word+' '+word#현재단어+ \" \" + 예측 단어를 현대단어로 바꿈\n",
    "        sentence=sentence+' '+word#예측단어를 문장에 저장\n",
    "    sentence=init_word+sentence\n",
    "    return sentence\n",
    "print(sentence_generation(model,t,'경마장에',4))"
   ]
  },
  {
   "cell_type": "code",
   "execution_count": 22,
   "metadata": {},
   "outputs": [
    {
     "name": "stdout",
     "output_type": "stream",
     "text": [
      "그의 말이 법이다\n"
     ]
    }
   ],
   "source": [
    "print(sentence_generation(model,t,'그의',2))"
   ]
  },
  {
   "cell_type": "code",
   "execution_count": 24,
   "metadata": {
    "scrolled": true
   },
   "outputs": [
    {
     "name": "stdout",
     "output_type": "stream",
     "text": [
      "가는 말이 고와야 오는 말이 곱다\n"
     ]
    }
   ],
   "source": [
    "print(sentence_generation(model,t,'가는',5))"
   ]
  },
  {
   "cell_type": "code",
   "execution_count": 25,
   "metadata": {},
   "outputs": [],
   "source": [
    "import pandas as pd\n",
    "from string import punctuation\n",
    "from tensorflow.keras.preprocessing.text import Tokenizer\n",
    "from tensorflow.keras.preprocessing.sequence import pad_sequences\n",
    "import numpy as np\n",
    "from tensorflow.keras.utils import to_categorical\n",
    "\n",
    "df=pd.read_csv(r'C:\\Users\\Msi\\Desktop\\ArticlesApril2018.csv')"
   ]
  },
  {
   "cell_type": "code",
   "execution_count": 26,
   "metadata": {},
   "outputs": [
    {
     "name": "stdout",
     "output_type": "stream",
     "text": [
      "열의 개수:  15\n",
      "Index(['articleID', 'articleWordCount', 'byline', 'documentType', 'headline',\n",
      "       'keywords', 'multimedia', 'newDesk', 'printPage', 'pubDate',\n",
      "       'sectionName', 'snippet', 'source', 'typeOfMaterial', 'webURL'],\n",
      "      dtype='object')\n"
     ]
    }
   ],
   "source": [
    "print('열의 개수: ',len(df.columns))\n",
    "print(df.columns)"
   ]
  },
  {
   "cell_type": "code",
   "execution_count": 27,
   "metadata": {},
   "outputs": [
    {
     "data": {
      "text/plain": [
       "False"
      ]
     },
     "execution_count": 27,
     "metadata": {},
     "output_type": "execute_result"
    }
   ],
   "source": [
    "df['headline'].isnull().values.any()"
   ]
  },
  {
   "cell_type": "code",
   "execution_count": 28,
   "metadata": {},
   "outputs": [
    {
     "data": {
      "text/plain": [
       "['Former N.F.L. Cheerleaders’ Settlement Offer: $1 and a Meeting With Goodell',\n",
       " 'E.P.A. to Unveil a New Rule. Its Effect: Less Science in Policymaking.',\n",
       " 'The New Noma, Explained',\n",
       " 'Unknown',\n",
       " 'Unknown']"
      ]
     },
     "execution_count": 28,
     "metadata": {},
     "output_type": "execute_result"
    }
   ],
   "source": [
    "headline=[]#리스트 선언\n",
    "headline.extend(list(df.headline.values))#헤드라인값들을 리스트로 저장\n",
    "headline[:5]"
   ]
  },
  {
   "cell_type": "code",
   "execution_count": 29,
   "metadata": {},
   "outputs": [
    {
     "name": "stdout",
     "output_type": "stream",
     "text": [
      "총 샘플의 개수 : 1324\n"
     ]
    }
   ],
   "source": [
    "print('총 샘플의 개수 : {}'.format(len(headline)))"
   ]
  },
  {
   "cell_type": "code",
   "execution_count": 30,
   "metadata": {},
   "outputs": [
    {
     "name": "stdout",
     "output_type": "stream",
     "text": [
      "노이즈값 제거 후 샘플의 개수 : 1214\n"
     ]
    }
   ],
   "source": [
    "headline=[n for n in headline if n !=\"Unknown\"] #\"Unknown제거\"\n",
    "print('노이즈값 제거 후 샘플의 개수 : {}'.format(len(headline)))"
   ]
  },
  {
   "cell_type": "code",
   "execution_count": 31,
   "metadata": {},
   "outputs": [
    {
     "data": {
      "text/plain": [
       "['Former N.F.L. Cheerleaders’ Settlement Offer: $1 and a Meeting With Goodell',\n",
       " 'E.P.A. to Unveil a New Rule. Its Effect: Less Science in Policymaking.',\n",
       " 'The New Noma, Explained',\n",
       " 'How a Bag of Texas Dirt  Became a Times Tradition',\n",
       " 'Is School a Place for Self-Expression?']"
      ]
     },
     "execution_count": 31,
     "metadata": {},
     "output_type": "execute_result"
    }
   ],
   "source": [
    "headline[:5]"
   ]
  },
  {
   "cell_type": "code",
   "execution_count": 33,
   "metadata": {},
   "outputs": [
    {
     "data": {
      "text/plain": [
       "['former nfl cheerleaders settlement offer 1 and a meeting with goodell',\n",
       " 'epa to unveil a new rule its effect less science in policymaking',\n",
       " 'the new noma explained',\n",
       " 'how a bag of texas dirt  became a times tradition',\n",
       " 'is school a place for selfexpression']"
      ]
     },
     "execution_count": 33,
     "metadata": {},
     "output_type": "execute_result"
    }
   ],
   "source": [
    "def repreprocessing(s):\n",
    "    s=s.encode(\"utf8\").decode(\"ascii\",'ignore')\n",
    "    return ''.join(c for c in s if c not in punctuation).lower()#구두점 제거와 동시에 소문자화\n",
    "text=[repreprocessing(x) for x in headline]\n",
    "text[:5]"
   ]
  },
  {
   "cell_type": "code",
   "execution_count": 34,
   "metadata": {},
   "outputs": [
    {
     "name": "stdout",
     "output_type": "stream",
     "text": [
      "단어집합의 크기:3494\n"
     ]
    }
   ],
   "source": [
    "t=Tokenizer()\n",
    "t.fit_on_texts(text)\n",
    "vocab_size=len(t.word_index)+1\n",
    "print(\"단어집합의 크기:%d\"%vocab_size)"
   ]
  },
  {
   "cell_type": "code",
   "execution_count": 36,
   "metadata": {},
   "outputs": [
    {
     "data": {
      "text/plain": [
       "[[99, 269],\n",
       " [99, 269, 371],\n",
       " [99, 269, 371, 1115],\n",
       " [99, 269, 371, 1115, 582],\n",
       " [99, 269, 371, 1115, 582, 52],\n",
       " [99, 269, 371, 1115, 582, 52, 7],\n",
       " [99, 269, 371, 1115, 582, 52, 7, 2],\n",
       " [99, 269, 371, 1115, 582, 52, 7, 2, 372],\n",
       " [99, 269, 371, 1115, 582, 52, 7, 2, 372, 10],\n",
       " [99, 269, 371, 1115, 582, 52, 7, 2, 372, 10, 1116],\n",
       " [100, 3]]"
      ]
     },
     "execution_count": 36,
     "metadata": {},
     "output_type": "execute_result"
    }
   ],
   "source": [
    "sequences=list()\n",
    "for line in text:\n",
    "    encoded=t.texts_to_sequences([line])[0]\n",
    "    for i in range(1,len(encoded)):\n",
    "        sequence=encoded[:i+1]\n",
    "        sequences.append(sequence)\n",
    "        \n",
    "sequences[:11]"
   ]
  },
  {
   "cell_type": "code",
   "execution_count": 37,
   "metadata": {},
   "outputs": [
    {
     "name": "stdout",
     "output_type": "stream",
     "text": [
      "빈도수 상위 582번 단어: offer\n"
     ]
    }
   ],
   "source": [
    "index_to_word={}\n",
    "for key, value in t.word_index.items():\n",
    "    index_to_word[value]=key\n",
    "print('빈도수 상위 582번 단어: {}'.format(index_to_word[582]))"
   ]
  },
  {
   "cell_type": "code",
   "execution_count": 39,
   "metadata": {},
   "outputs": [
    {
     "name": "stdout",
     "output_type": "stream",
     "text": [
      "[[   0    0    0    0    0    0    0    0    0    0    0    0    0    0\n",
      "     0    0    0    0    0    0    0    0   99  269]\n",
      " [   0    0    0    0    0    0    0    0    0    0    0    0    0    0\n",
      "     0    0    0    0    0    0    0   99  269  371]\n",
      " [   0    0    0    0    0    0    0    0    0    0    0    0    0    0\n",
      "     0    0    0    0    0    0   99  269  371 1115]\n",
      " [   0    0    0    0    0    0    0    0    0    0    0    0    0    0\n",
      "     0    0    0    0    0   99  269  371 1115  582]\n",
      " [   0    0    0    0    0    0    0    0    0    0    0    0    0    0\n",
      "     0    0    0    0   99  269  371 1115  582   52]]\n"
     ]
    }
   ],
   "source": [
    "max_len=max(len(l) for l in sequences)\n",
    "sequences=pad_sequences(sequences,maxlen=max_len,padding='pre')\n",
    "print(sequences[:5])"
   ]
  },
  {
   "cell_type": "code",
   "execution_count": 40,
   "metadata": {},
   "outputs": [
    {
     "name": "stdout",
     "output_type": "stream",
     "text": [
      "[[  0   0   0   0   0   0   0   0   0   0   0   0   0   0   0   0   0   0\n",
      "    0   0   0   0  99]\n",
      " [  0   0   0   0   0   0   0   0   0   0   0   0   0   0   0   0   0   0\n",
      "    0   0   0  99 269]\n",
      " [  0   0   0   0   0   0   0   0   0   0   0   0   0   0   0   0   0   0\n",
      "    0   0  99 269 371]]\n"
     ]
    }
   ],
   "source": [
    "sequences = np.array(sequences)\n",
    "X = sequences[:,:-1]\n",
    "y = sequences[:,-1]\n",
    "print(X[:3])"
   ]
  },
  {
   "cell_type": "code",
   "execution_count": 41,
   "metadata": {},
   "outputs": [
    {
     "name": "stdout",
     "output_type": "stream",
     "text": [
      "[ 269  371 1115]\n"
     ]
    }
   ],
   "source": [
    "print(y[:3]) #레이블"
   ]
  },
  {
   "cell_type": "code",
   "execution_count": 42,
   "metadata": {},
   "outputs": [],
   "source": [
    "y=to_categorical(y,num_classes=vocab_size) #원-핫인코딩"
   ]
  },
  {
   "cell_type": "code",
   "execution_count": 43,
   "metadata": {},
   "outputs": [
    {
     "name": "stdout",
     "output_type": "stream",
     "text": [
      "Epoch 1/200\n",
      "244/244 - 4s - loss: 7.6449 - accuracy: 0.0274\n",
      "Epoch 2/200\n",
      "244/244 - 2s - loss: 7.1108 - accuracy: 0.0319\n",
      "Epoch 3/200\n",
      "244/244 - 2s - loss: 6.9734 - accuracy: 0.0386\n",
      "Epoch 4/200\n",
      "244/244 - 2s - loss: 6.8527 - accuracy: 0.0413\n",
      "Epoch 5/200\n",
      "244/244 - 2s - loss: 6.7159 - accuracy: 0.0438\n",
      "Epoch 6/200\n",
      "244/244 - 2s - loss: 6.5581 - accuracy: 0.0487\n",
      "Epoch 7/200\n",
      "244/244 - 2s - loss: 6.3726 - accuracy: 0.0518\n",
      "Epoch 8/200\n",
      "244/244 - 2s - loss: 6.1760 - accuracy: 0.0549\n",
      "Epoch 9/200\n",
      "244/244 - 2s - loss: 5.9793 - accuracy: 0.0600\n",
      "Epoch 10/200\n",
      "244/244 - 2s - loss: 5.7914 - accuracy: 0.0669\n",
      "Epoch 11/200\n",
      "244/244 - 2s - loss: 5.6083 - accuracy: 0.0706\n",
      "Epoch 12/200\n",
      "244/244 - 2s - loss: 5.4380 - accuracy: 0.0756\n",
      "Epoch 13/200\n",
      "244/244 - 2s - loss: 5.2752 - accuracy: 0.0800\n",
      "Epoch 14/200\n",
      "244/244 - 2s - loss: 5.1185 - accuracy: 0.0897\n",
      "Epoch 15/200\n",
      "244/244 - 2s - loss: 4.9703 - accuracy: 0.1005\n",
      "Epoch 16/200\n",
      "244/244 - 2s - loss: 4.8301 - accuracy: 0.1096\n",
      "Epoch 17/200\n",
      "244/244 - 2s - loss: 4.6936 - accuracy: 0.1210\n",
      "Epoch 18/200\n",
      "244/244 - 2s - loss: 4.5627 - accuracy: 0.1379\n",
      "Epoch 19/200\n",
      "244/244 - 2s - loss: 4.4384 - accuracy: 0.1521\n",
      "Epoch 20/200\n",
      "244/244 - 2s - loss: 4.3144 - accuracy: 0.1745\n",
      "Epoch 21/200\n",
      "244/244 - 2s - loss: 4.1953 - accuracy: 0.1888\n",
      "Epoch 22/200\n",
      "244/244 - 2s - loss: 4.0826 - accuracy: 0.2035\n",
      "Epoch 23/200\n",
      "244/244 - 2s - loss: 3.9714 - accuracy: 0.2227\n",
      "Epoch 24/200\n",
      "244/244 - 2s - loss: 3.8658 - accuracy: 0.2386\n",
      "Epoch 25/200\n",
      "244/244 - 2s - loss: 3.7605 - accuracy: 0.2593\n",
      "Epoch 26/200\n",
      "244/244 - 2s - loss: 3.6593 - accuracy: 0.2741\n",
      "Epoch 27/200\n",
      "244/244 - 2s - loss: 3.5621 - accuracy: 0.2892\n",
      "Epoch 28/200\n",
      "244/244 - 2s - loss: 3.4689 - accuracy: 0.3063\n",
      "Epoch 29/200\n",
      "244/244 - 2s - loss: 3.3800 - accuracy: 0.3192\n",
      "Epoch 30/200\n",
      "244/244 - 2s - loss: 3.2901 - accuracy: 0.3349\n",
      "Epoch 31/200\n",
      "244/244 - 2s - loss: 3.2049 - accuracy: 0.3506\n",
      "Epoch 32/200\n",
      "244/244 - 2s - loss: 3.1244 - accuracy: 0.3695\n",
      "Epoch 33/200\n",
      "244/244 - 2s - loss: 3.0435 - accuracy: 0.3781\n",
      "Epoch 34/200\n",
      "244/244 - 2s - loss: 2.9698 - accuracy: 0.3948\n",
      "Epoch 35/200\n",
      "244/244 - 2s - loss: 2.8951 - accuracy: 0.4134\n",
      "Epoch 36/200\n",
      "244/244 - 2s - loss: 2.8254 - accuracy: 0.4225\n",
      "Epoch 37/200\n",
      "244/244 - 2s - loss: 2.7545 - accuracy: 0.4361\n",
      "Epoch 38/200\n",
      "244/244 - 2s - loss: 2.6879 - accuracy: 0.4546\n",
      "Epoch 39/200\n",
      "244/244 - 2s - loss: 2.6218 - accuracy: 0.4608\n",
      "Epoch 40/200\n",
      "244/244 - 3s - loss: 2.5579 - accuracy: 0.4764\n",
      "Epoch 41/200\n",
      "244/244 - 2s - loss: 2.4994 - accuracy: 0.4931\n",
      "Epoch 42/200\n",
      "244/244 - 2s - loss: 2.4387 - accuracy: 0.5003\n",
      "Epoch 43/200\n",
      "244/244 - 3s - loss: 2.3816 - accuracy: 0.5152\n",
      "Epoch 44/200\n",
      "244/244 - 3s - loss: 2.3247 - accuracy: 0.5194\n",
      "Epoch 45/200\n",
      "244/244 - 3s - loss: 2.2718 - accuracy: 0.5331\n",
      "Epoch 46/200\n",
      "244/244 - 3s - loss: 2.2147 - accuracy: 0.5480\n",
      "Epoch 47/200\n",
      "244/244 - 3s - loss: 2.1697 - accuracy: 0.5567\n",
      "Epoch 48/200\n",
      "244/244 - 3s - loss: 2.1141 - accuracy: 0.5690\n",
      "Epoch 49/200\n",
      "244/244 - 3s - loss: 2.0663 - accuracy: 0.5759\n",
      "Epoch 50/200\n",
      "244/244 - 3s - loss: 2.0178 - accuracy: 0.5852\n",
      "Epoch 51/200\n",
      "244/244 - 3s - loss: 1.9704 - accuracy: 0.5993\n",
      "Epoch 52/200\n",
      "244/244 - 3s - loss: 1.9257 - accuracy: 0.6066\n",
      "Epoch 53/200\n",
      "244/244 - 3s - loss: 1.8802 - accuracy: 0.6168\n",
      "Epoch 54/200\n",
      "244/244 - 2s - loss: 1.8362 - accuracy: 0.6227\n",
      "Epoch 55/200\n",
      "244/244 - 3s - loss: 1.7950 - accuracy: 0.6350\n",
      "Epoch 56/200\n",
      "244/244 - 3s - loss: 1.7521 - accuracy: 0.6456\n",
      "Epoch 57/200\n",
      "244/244 - 3s - loss: 1.7135 - accuracy: 0.6549\n",
      "Epoch 58/200\n",
      "244/244 - 3s - loss: 1.6747 - accuracy: 0.6563\n",
      "Epoch 59/200\n",
      "244/244 - 3s - loss: 1.6341 - accuracy: 0.6708\n",
      "Epoch 60/200\n",
      "244/244 - 3s - loss: 1.5951 - accuracy: 0.6785\n",
      "Epoch 61/200\n",
      "244/244 - 2s - loss: 1.5587 - accuracy: 0.6863\n",
      "Epoch 62/200\n",
      "244/244 - 3s - loss: 1.5237 - accuracy: 0.6929\n",
      "Epoch 63/200\n",
      "244/244 - 2s - loss: 1.4917 - accuracy: 0.7013\n",
      "Epoch 64/200\n",
      "244/244 - 2s - loss: 1.4531 - accuracy: 0.7067\n",
      "Epoch 65/200\n",
      "244/244 - 2s - loss: 1.4206 - accuracy: 0.7160\n",
      "Epoch 66/200\n",
      "244/244 - 2s - loss: 1.3894 - accuracy: 0.7225\n",
      "Epoch 67/200\n",
      "244/244 - 2s - loss: 1.3551 - accuracy: 0.7328\n",
      "Epoch 68/200\n",
      "244/244 - 2s - loss: 1.3231 - accuracy: 0.7378\n",
      "Epoch 69/200\n",
      "244/244 - 2s - loss: 1.2934 - accuracy: 0.7430\n",
      "Epoch 70/200\n",
      "244/244 - 2s - loss: 1.2602 - accuracy: 0.7538\n",
      "Epoch 71/200\n",
      "244/244 - 2s - loss: 1.2355 - accuracy: 0.7524\n",
      "Epoch 72/200\n",
      "244/244 - 2s - loss: 1.2053 - accuracy: 0.7615\n",
      "Epoch 73/200\n",
      "244/244 - 2s - loss: 1.1799 - accuracy: 0.7677\n",
      "Epoch 74/200\n",
      "244/244 - 2s - loss: 1.1518 - accuracy: 0.7689\n",
      "Epoch 75/200\n",
      "244/244 - 2s - loss: 1.1248 - accuracy: 0.7759\n",
      "Epoch 76/200\n",
      "244/244 - 2s - loss: 1.0998 - accuracy: 0.7832\n",
      "Epoch 77/200\n",
      "244/244 - 2s - loss: 1.0732 - accuracy: 0.7866\n",
      "Epoch 78/200\n",
      "244/244 - 2s - loss: 1.0497 - accuracy: 0.7917\n",
      "Epoch 79/200\n",
      "244/244 - 2s - loss: 1.0277 - accuracy: 0.7964\n",
      "Epoch 80/200\n",
      "244/244 - 2s - loss: 1.0038 - accuracy: 0.8016\n",
      "Epoch 81/200\n",
      "244/244 - 2s - loss: 0.9809 - accuracy: 0.8048\n",
      "Epoch 82/200\n",
      "244/244 - 2s - loss: 0.9576 - accuracy: 0.8115\n",
      "Epoch 83/200\n",
      "244/244 - 2s - loss: 0.9356 - accuracy: 0.8151\n",
      "Epoch 84/200\n",
      "244/244 - 3s - loss: 0.9164 - accuracy: 0.8180\n",
      "Epoch 85/200\n",
      "244/244 - 2s - loss: 0.8971 - accuracy: 0.8226\n",
      "Epoch 86/200\n",
      "244/244 - 2s - loss: 0.8738 - accuracy: 0.8243\n",
      "Epoch 87/200\n",
      "244/244 - 2s - loss: 0.8535 - accuracy: 0.8306\n",
      "Epoch 88/200\n",
      "244/244 - 2s - loss: 0.8364 - accuracy: 0.8333\n",
      "Epoch 89/200\n",
      "244/244 - 2s - loss: 0.8160 - accuracy: 0.8363\n",
      "Epoch 90/200\n",
      "244/244 - 2s - loss: 0.7993 - accuracy: 0.8424\n",
      "Epoch 91/200\n",
      "244/244 - 2s - loss: 0.7825 - accuracy: 0.8471\n",
      "Epoch 92/200\n",
      "244/244 - 2s - loss: 0.7645 - accuracy: 0.8499\n",
      "Epoch 93/200\n",
      "244/244 - 2s - loss: 0.7487 - accuracy: 0.8533\n",
      "Epoch 94/200\n",
      "244/244 - 2s - loss: 0.7318 - accuracy: 0.8540\n",
      "Epoch 95/200\n",
      "244/244 - 2s - loss: 0.7170 - accuracy: 0.8585\n",
      "Epoch 96/200\n",
      "244/244 - 2s - loss: 0.6987 - accuracy: 0.8638\n",
      "Epoch 97/200\n",
      "244/244 - 2s - loss: 0.6839 - accuracy: 0.8622\n",
      "Epoch 98/200\n",
      "244/244 - 2s - loss: 0.6684 - accuracy: 0.8671\n",
      "Epoch 99/200\n",
      "244/244 - 2s - loss: 0.6556 - accuracy: 0.8693\n",
      "Epoch 100/200\n",
      "244/244 - 2s - loss: 0.6413 - accuracy: 0.8744\n",
      "Epoch 101/200\n",
      "244/244 - 2s - loss: 0.6273 - accuracy: 0.8735\n",
      "Epoch 102/200\n",
      "244/244 - 2s - loss: 0.6153 - accuracy: 0.8780\n",
      "Epoch 103/200\n",
      "244/244 - 2s - loss: 0.6005 - accuracy: 0.8780\n",
      "Epoch 104/200\n",
      "244/244 - 2s - loss: 0.5904 - accuracy: 0.8831\n",
      "Epoch 105/200\n",
      "244/244 - 2s - loss: 0.5764 - accuracy: 0.8850\n",
      "Epoch 106/200\n",
      "244/244 - 2s - loss: 0.5684 - accuracy: 0.8841\n",
      "Epoch 107/200\n",
      "244/244 - 2s - loss: 0.5548 - accuracy: 0.8894\n",
      "Epoch 108/200\n",
      "244/244 - 2s - loss: 0.5464 - accuracy: 0.8889\n",
      "Epoch 109/200\n",
      "244/244 - 2s - loss: 0.5322 - accuracy: 0.8918\n",
      "Epoch 110/200\n",
      "244/244 - 2s - loss: 0.5212 - accuracy: 0.8954\n",
      "Epoch 111/200\n",
      "244/244 - 2s - loss: 0.5122 - accuracy: 0.8943\n",
      "Epoch 112/200\n",
      "244/244 - 2s - loss: 0.5010 - accuracy: 0.8986\n",
      "Epoch 113/200\n",
      "244/244 - 2s - loss: 0.4921 - accuracy: 0.8994\n",
      "Epoch 114/200\n",
      "244/244 - 2s - loss: 0.4808 - accuracy: 0.9002\n",
      "Epoch 115/200\n",
      "244/244 - 2s - loss: 0.4719 - accuracy: 0.9009\n",
      "Epoch 116/200\n",
      "244/244 - 2s - loss: 0.4662 - accuracy: 0.9035\n",
      "Epoch 117/200\n",
      "244/244 - 2s - loss: 0.4581 - accuracy: 0.9045\n",
      "Epoch 118/200\n",
      "244/244 - 2s - loss: 0.4465 - accuracy: 0.9029\n",
      "Epoch 119/200\n",
      "244/244 - 2s - loss: 0.4402 - accuracy: 0.9073\n",
      "Epoch 120/200\n",
      "244/244 - 2s - loss: 0.4318 - accuracy: 0.9071\n",
      "Epoch 121/200\n",
      "244/244 - 2s - loss: 0.4293 - accuracy: 0.9098\n",
      "Epoch 122/200\n",
      "244/244 - 2s - loss: 0.4232 - accuracy: 0.9076\n",
      "Epoch 123/200\n",
      "244/244 - 2s - loss: 0.4115 - accuracy: 0.9084\n",
      "Epoch 124/200\n",
      "244/244 - 2s - loss: 0.4055 - accuracy: 0.9104\n",
      "Epoch 125/200\n",
      "244/244 - 2s - loss: 0.3991 - accuracy: 0.9105\n",
      "Epoch 126/200\n",
      "244/244 - 2s - loss: 0.3920 - accuracy: 0.9121\n",
      "Epoch 127/200\n",
      "244/244 - 2s - loss: 0.3871 - accuracy: 0.9134\n",
      "Epoch 128/200\n",
      "244/244 - 2s - loss: 0.3857 - accuracy: 0.9113\n",
      "Epoch 129/200\n",
      "244/244 - 2s - loss: 0.3780 - accuracy: 0.9132\n",
      "Epoch 130/200\n",
      "244/244 - 2s - loss: 0.3725 - accuracy: 0.9123\n",
      "Epoch 131/200\n",
      "244/244 - 2s - loss: 0.3651 - accuracy: 0.9129\n",
      "Epoch 132/200\n",
      "244/244 - 2s - loss: 0.3605 - accuracy: 0.9144\n",
      "Epoch 133/200\n",
      "244/244 - 2s - loss: 0.3552 - accuracy: 0.9138\n",
      "Epoch 134/200\n",
      "244/244 - 2s - loss: 0.3507 - accuracy: 0.9131\n",
      "Epoch 135/200\n",
      "244/244 - 2s - loss: 0.3466 - accuracy: 0.9148\n",
      "Epoch 136/200\n",
      "244/244 - 3s - loss: 0.3442 - accuracy: 0.9152\n",
      "Epoch 137/200\n"
     ]
    },
    {
     "name": "stdout",
     "output_type": "stream",
     "text": [
      "244/244 - 3s - loss: 0.3454 - accuracy: 0.9145\n",
      "Epoch 138/200\n",
      "244/244 - 2s - loss: 0.3444 - accuracy: 0.9135\n",
      "Epoch 139/200\n",
      "244/244 - 2s - loss: 0.3641 - accuracy: 0.9100\n",
      "Epoch 140/200\n",
      "244/244 - 2s - loss: 0.3359 - accuracy: 0.9149\n",
      "Epoch 141/200\n",
      "244/244 - 2s - loss: 0.3249 - accuracy: 0.9170\n",
      "Epoch 142/200\n",
      "244/244 - 2s - loss: 0.3211 - accuracy: 0.9159\n",
      "Epoch 143/200\n",
      "244/244 - 2s - loss: 0.3187 - accuracy: 0.9164\n",
      "Epoch 144/200\n",
      "244/244 - 2s - loss: 0.3166 - accuracy: 0.9164\n",
      "Epoch 145/200\n",
      "244/244 - 2s - loss: 0.3144 - accuracy: 0.9161\n",
      "Epoch 146/200\n",
      "244/244 - 2s - loss: 0.3117 - accuracy: 0.9157\n",
      "Epoch 147/200\n",
      "244/244 - 2s - loss: 0.3091 - accuracy: 0.9157\n",
      "Epoch 148/200\n",
      "244/244 - 2s - loss: 0.3078 - accuracy: 0.9162\n",
      "Epoch 149/200\n",
      "244/244 - 2s - loss: 0.3055 - accuracy: 0.9141\n",
      "Epoch 150/200\n",
      "244/244 - 2s - loss: 0.3053 - accuracy: 0.9150\n",
      "Epoch 151/200\n",
      "244/244 - 2s - loss: 0.3030 - accuracy: 0.9163\n",
      "Epoch 152/200\n",
      "244/244 - 2s - loss: 0.3046 - accuracy: 0.9166\n",
      "Epoch 153/200\n",
      "244/244 - 2s - loss: 0.3056 - accuracy: 0.9157\n",
      "Epoch 154/200\n",
      "244/244 - 2s - loss: 0.2998 - accuracy: 0.9175\n",
      "Epoch 155/200\n",
      "244/244 - 3s - loss: 0.2953 - accuracy: 0.9140\n",
      "Epoch 156/200\n",
      "244/244 - 2s - loss: 0.2934 - accuracy: 0.9171\n",
      "Epoch 157/200\n",
      "244/244 - 2s - loss: 0.2907 - accuracy: 0.9161\n",
      "Epoch 158/200\n",
      "244/244 - 2s - loss: 0.2900 - accuracy: 0.9155\n",
      "Epoch 159/200\n",
      "244/244 - 2s - loss: 0.2881 - accuracy: 0.9171\n",
      "Epoch 160/200\n",
      "244/244 - 2s - loss: 0.2860 - accuracy: 0.9153\n",
      "Epoch 161/200\n",
      "244/244 - 2s - loss: 0.2853 - accuracy: 0.9171\n",
      "Epoch 162/200\n",
      "244/244 - 2s - loss: 0.2830 - accuracy: 0.9164\n",
      "Epoch 163/200\n",
      "244/244 - 2s - loss: 0.2856 - accuracy: 0.9163\n",
      "Epoch 164/200\n",
      "244/244 - 3s - loss: 0.2825 - accuracy: 0.9161\n",
      "Epoch 165/200\n",
      "244/244 - 3s - loss: 0.2814 - accuracy: 0.9175\n",
      "Epoch 166/200\n",
      "244/244 - 3s - loss: 0.2855 - accuracy: 0.9149\n",
      "Epoch 167/200\n",
      "244/244 - 3s - loss: 0.2965 - accuracy: 0.9140\n",
      "Epoch 168/200\n",
      "244/244 - 2s - loss: 0.2840 - accuracy: 0.9161\n",
      "Epoch 169/200\n",
      "244/244 - 2s - loss: 0.2784 - accuracy: 0.9167\n",
      "Epoch 170/200\n",
      "244/244 - 2s - loss: 0.2746 - accuracy: 0.9185\n",
      "Epoch 171/200\n",
      "244/244 - 2s - loss: 0.2741 - accuracy: 0.9166\n",
      "Epoch 172/200\n",
      "244/244 - 2s - loss: 0.2722 - accuracy: 0.9172\n",
      "Epoch 173/200\n",
      "244/244 - 2s - loss: 0.2745 - accuracy: 0.9172\n",
      "Epoch 174/200\n",
      "244/244 - 2s - loss: 0.2732 - accuracy: 0.9179\n",
      "Epoch 175/200\n",
      "244/244 - 2s - loss: 0.2712 - accuracy: 0.9179\n",
      "Epoch 176/200\n",
      "244/244 - 2s - loss: 0.2757 - accuracy: 0.9172\n",
      "Epoch 177/200\n",
      "244/244 - 2s - loss: 0.2713 - accuracy: 0.9173\n",
      "Epoch 178/200\n",
      "244/244 - 2s - loss: 0.2712 - accuracy: 0.9154\n",
      "Epoch 179/200\n",
      "244/244 - 2s - loss: 0.2700 - accuracy: 0.9172\n",
      "Epoch 180/200\n",
      "244/244 - 2s - loss: 0.2692 - accuracy: 0.9176\n",
      "Epoch 181/200\n",
      "244/244 - 2s - loss: 0.2675 - accuracy: 0.9161\n",
      "Epoch 182/200\n",
      "244/244 - 2s - loss: 0.2684 - accuracy: 0.9157\n",
      "Epoch 183/200\n",
      "244/244 - 2s - loss: 0.2691 - accuracy: 0.9163\n",
      "Epoch 184/200\n",
      "244/244 - 2s - loss: 0.2679 - accuracy: 0.9168\n",
      "Epoch 185/200\n",
      "244/244 - 2s - loss: 0.2662 - accuracy: 0.9167\n",
      "Epoch 186/200\n",
      "244/244 - 2s - loss: 0.2664 - accuracy: 0.9170\n",
      "Epoch 187/200\n",
      "244/244 - 2s - loss: 0.2653 - accuracy: 0.9164\n",
      "Epoch 188/200\n",
      "244/244 - 2s - loss: 0.2681 - accuracy: 0.9162\n",
      "Epoch 189/200\n",
      "244/244 - 2s - loss: 0.2822 - accuracy: 0.9129\n",
      "Epoch 190/200\n",
      "244/244 - 2s - loss: 0.2936 - accuracy: 0.9120\n",
      "Epoch 191/200\n",
      "244/244 - 2s - loss: 0.2685 - accuracy: 0.9168\n",
      "Epoch 192/200\n",
      "244/244 - 2s - loss: 0.2649 - accuracy: 0.9161\n",
      "Epoch 193/200\n",
      "244/244 - 2s - loss: 0.2636 - accuracy: 0.9164\n",
      "Epoch 194/200\n",
      "244/244 - 2s - loss: 0.2630 - accuracy: 0.9163\n",
      "Epoch 195/200\n",
      "244/244 - 2s - loss: 0.2614 - accuracy: 0.9162\n",
      "Epoch 196/200\n",
      "244/244 - 2s - loss: 0.2620 - accuracy: 0.9175\n",
      "Epoch 197/200\n",
      "244/244 - 2s - loss: 0.2619 - accuracy: 0.9166\n",
      "Epoch 198/200\n",
      "244/244 - 2s - loss: 0.2610 - accuracy: 0.9162\n",
      "Epoch 199/200\n",
      "244/244 - 2s - loss: 0.2615 - accuracy: 0.9171\n",
      "Epoch 200/200\n",
      "244/244 - 2s - loss: 0.2605 - accuracy: 0.9166\n"
     ]
    },
    {
     "data": {
      "text/plain": [
       "<tensorflow.python.keras.callbacks.History at 0x25e8ba61430>"
      ]
     },
     "execution_count": 43,
     "metadata": {},
     "output_type": "execute_result"
    }
   ],
   "source": [
    "from tensorflow.keras.models import Sequential\n",
    "from tensorflow.keras.layers import Embedding,Dense,LSTM\n",
    "\n",
    "model=Sequential()\n",
    "model.add(Embedding(vocab_size,10,input_length=max_len-1))\n",
    "model.add(LSTM(128))\n",
    "model.add(Dense(vocab_size,activation='softmax'))\n",
    "model.compile(loss='categorical_crossentropy',optimizer='adam',metrics=['accuracy'])\n",
    "model.fit(X,y,epochs=200,verbose=2)"
   ]
  },
  {
   "cell_type": "code",
   "execution_count": 45,
   "metadata": {},
   "outputs": [
    {
     "name": "stdout",
     "output_type": "stream",
     "text": [
      "i disapprove of school vouchers can i still apply for them\n"
     ]
    }
   ],
   "source": [
    "def sentence_generation(model,t,current_word,n):#모델, 토크나이저, 현재단어, 반복할 횟수\n",
    "    init_word=current_word#처음 들어온 단어도 마지막에 같이 출력하기 위해 저장\n",
    "    sentence=''\n",
    "    for _ in range(n):\n",
    "        encoded=t.texts_to_sequences([current_word])[0]\n",
    "        encoded=pad_sequences([encoded],maxlen=23,padding='pre')\n",
    "        result=model.predict_classes(encoded,verbose=0)\n",
    "        for word,index in t.word_index.items():\n",
    "            if index == result:\n",
    "                break\n",
    "        current_word=current_word + ' '+word\n",
    "        sentence=sentence+ ' '+word\n",
    "    sentence=init_word+sentence\n",
    "    return sentence\n",
    "print(sentence_generation(model,t,'i',10))"
   ]
  },
  {
   "cell_type": "code",
   "execution_count": 46,
   "metadata": {},
   "outputs": [
    {
     "name": "stdout",
     "output_type": "stream",
     "text": [
      "how to make a crossword puzzle pay just from the big\n"
     ]
    }
   ],
   "source": [
    "print(sentence_generation(model, t, 'how', 10))"
   ]
  },
  {
   "cell_type": "code",
   "execution_count": null,
   "metadata": {},
   "outputs": [],
   "source": []
  }
 ],
 "metadata": {
  "kernelspec": {
   "display_name": "Python 3",
   "language": "python",
   "name": "python3"
  },
  "language_info": {
   "codemirror_mode": {
    "name": "ipython",
    "version": 3
   },
   "file_extension": ".py",
   "mimetype": "text/x-python",
   "name": "python",
   "nbconvert_exporter": "python",
   "pygments_lexer": "ipython3",
   "version": "3.8.3"
  }
 },
 "nbformat": 4,
 "nbformat_minor": 4
}
