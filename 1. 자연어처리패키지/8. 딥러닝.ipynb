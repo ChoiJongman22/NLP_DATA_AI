{
 "cells": [
  {
   "cell_type": "code",
   "execution_count": 1,
   "metadata": {},
   "outputs": [
    {
     "name": "stdout",
     "output_type": "stream",
     "text": [
      "sequences :  [1, 2, 3, 4, 6, 7]\n",
      "word_index :  {'the': 1, 'earth': 2, 'is': 3, 'an': 4, 'awesome': 5, 'place': 6, 'live': 7}\n"
     ]
    }
   ],
   "source": [
    "#딥러닝의 기본구조인 인공신경망은 오래 되었ㄷ.\n",
    "#퍼셉트론부터 피드포워드신경망언어모델 정의 기본적인 케라스 사용법을 알아보자\n",
    "\n",
    "#퍼셉트론\n",
    "\n",
    "#과적합을 막는 방법들\n",
    "#데이터 양 늘리기: 데이터 증식/증강\n",
    "#모델 복잡도 줄이기: CNN\n",
    "#가중치 규제 적용하기\n",
    "#keras 훑어보기\n",
    "\n",
    "from tensorflow.keras.preprocessing.text import Tokenizer\n",
    "t=Tokenizer()\n",
    "fit_text=\"The earth is an awesome place live\"\n",
    "t.fit_on_texts([fit_text])\n",
    "test_text=\"The earth is an great place live\"\n",
    "sequences=t.texts_to_sequences([test_text])[0]\n",
    "\n",
    "print(\"sequences : \", sequences) #greate는 단어집합에 없으므로 출력x\n",
    "print(\"word_index : \",t.word_index)#단어 집합 출력"
   ]
  },
  {
   "cell_type": "code",
   "execution_count": 2,
   "metadata": {},
   "outputs": [
    {
     "data": {
      "text/plain": [
       "array([[1, 2, 3],\n",
       "       [4, 5, 6],\n",
       "       [0, 7, 8]])"
      ]
     },
     "execution_count": 2,
     "metadata": {},
     "output_type": "execute_result"
    }
   ],
   "source": [
    "from tensorflow.keras.preprocessing.sequence import pad_sequences\n",
    "pad_sequences([[1, 2, 3], [3, 4, 5, 6], [7, 8]], maxlen=3, padding='pre')\n",
    "#전처리가 끝나서 각 단어에 대한 정수 인코딩이 끝났다고 가정하고 3개의 데이터를 입력으로"
   ]
  },
  {
   "cell_type": "code",
   "execution_count": 3,
   "metadata": {},
   "outputs": [
    {
     "name": "stdout",
     "output_type": "stream",
     "text": [
      "{'바나나': 1, '먹고': 2, '싶은': 3, '사과': 4, '길고': 5, '노란': 6, '저는': 7, '과일이': 8, '좋아요': 9}\n"
     ]
    }
   ],
   "source": [
    "#다층퍼셉트론으로 텍스트 분류하기\n",
    "import numpy as np\n",
    "from tensorflow.keras.preprocessing.text import Tokenizer\n",
    "#전처리 도구인 Tokenizer\n",
    "texts = ['먹고 싶은 사과', '먹고 싶은 바나나', '길고 노란 바나나 바나나', '저는 과일이 좋아요']\n",
    "t=Tokenizer()\n",
    "t.fit_on_texts(texts)\n",
    "print(t.word_index)"
   ]
  },
  {
   "cell_type": "code",
   "execution_count": null,
   "metadata": {},
   "outputs": [],
   "source": [
    "from tensorflow.keras.models import Sequential\n",
    "from tensorflow.keras.layers import Dense, Dropout\n",
    "\n",
    "def fit_and_evaluate(X_train,y_train,X_test,y_test):\n",
    "    model=Sequential()\n",
    "    model.add(Dense(256,input_shape=(max_words,),activation='relu'))\n",
    "    model.add(Dropout(0.5))\n",
    "    model.add(Dense(128,activation='relu'))\n",
    "    model.add(Dropout(0.5))\n",
    "    model.add(num_calsses,activation='softmax')\n",
    "    model.compile(loss='categorical_crossentropy',optimizer='adam',metrics=['accuracy'])\n",
    "    model.fit(X_train,y_train,batch_size=128,epoch=5,verbose=1,validation_split=0.1)\n",
    "    score=model.evaluate(X_test,y_test,batch_size=128,verbose=0)\n",
    "    return score[1]"
   ]
  }
 ],
 "metadata": {
  "kernelspec": {
   "display_name": "Python 3",
   "language": "python",
   "name": "python3"
  },
  "language_info": {
   "codemirror_mode": {
    "name": "ipython",
    "version": 3
   },
   "file_extension": ".py",
   "mimetype": "text/x-python",
   "name": "python",
   "nbconvert_exporter": "python",
   "pygments_lexer": "ipython3",
   "version": "3.8.3"
  }
 },
 "nbformat": 4,
 "nbformat_minor": 4
}
