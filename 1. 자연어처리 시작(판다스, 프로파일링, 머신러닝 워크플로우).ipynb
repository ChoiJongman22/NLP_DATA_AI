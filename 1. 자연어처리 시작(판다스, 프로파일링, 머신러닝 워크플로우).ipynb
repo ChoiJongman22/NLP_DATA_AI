{
 "cells": [
  {
   "cell_type": "code",
   "execution_count": 3,
   "metadata": {},
   "outputs": [
    {
     "name": "stdout",
     "output_type": "stream",
     "text": [
      "피자    1000\n",
      "치킨    2000\n",
      "콜라    3000\n",
      "맥주    4000\n",
      "dtype: int64\n"
     ]
    }
   ],
   "source": [
    "#pandas 클래스에는 시리즈 클래스를 갖고 있는데\n",
    "#dictionary구조로 만들 수 있다.\n",
    "import pandas as pd\n",
    "midnight_meal=pd.Series([1000,2000,3000,4000],\n",
    "                       index=[\"피자\",\"치킨\",\"콜라\",\"맥주\"])\n",
    "print(midnight_meal)\n",
    "#야식종류가 인덱스로"
   ]
  },
  {
   "cell_type": "code",
   "execution_count": null,
   "metadata": {},
   "outputs": [],
   "source": []
  }
 ],
 "metadata": {
  "kernelspec": {
   "display_name": "Python 3",
   "language": "python",
   "name": "python3"
  },
  "language_info": {
   "codemirror_mode": {
    "name": "ipython",
    "version": 3
   },
   "file_extension": ".py",
   "mimetype": "text/x-python",
   "name": "python",
   "nbconvert_exporter": "python",
   "pygments_lexer": "ipython3",
   "version": "3.8.3"
  }
 },
 "nbformat": 4,
 "nbformat_minor": 4
}
