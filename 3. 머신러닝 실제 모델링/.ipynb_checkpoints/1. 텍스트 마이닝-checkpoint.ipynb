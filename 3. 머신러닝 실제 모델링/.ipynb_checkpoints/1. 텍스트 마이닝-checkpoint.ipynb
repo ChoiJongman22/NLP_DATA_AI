{
 "cells": [
  {
   "cell_type": "code",
   "execution_count": 10,
   "metadata": {},
   "outputs": [
    {
     "name": "stderr",
     "output_type": "stream",
     "text": [
      "[nltk_data] Downloading package stopwords to\n",
      "[nltk_data]     C:\\Users\\Msi\\AppData\\Roaming\\nltk_data...\n",
      "[nltk_data]   Package stopwords is already up-to-date!\n"
     ]
    },
    {
     "ename": "ModuleNotFoundError",
     "evalue": "No module named 'wordcloud'",
     "output_type": "error",
     "traceback": [
      "\u001b[1;31m---------------------------------------------------------------------------\u001b[0m",
      "\u001b[1;31mModuleNotFoundError\u001b[0m                       Traceback (most recent call last)",
      "\u001b[1;32m<ipython-input-10-a8937c4b3304>\u001b[0m in \u001b[0;36m<module>\u001b[1;34m\u001b[0m\n\u001b[0;32m     14\u001b[0m \u001b[1;32mimport\u001b[0m \u001b[0mmatplotlib\u001b[0m\u001b[1;33m.\u001b[0m\u001b[0mpyplot\u001b[0m \u001b[1;32mas\u001b[0m \u001b[0mplt\u001b[0m\u001b[1;33m\u001b[0m\u001b[1;33m\u001b[0m\u001b[0m\n\u001b[0;32m     15\u001b[0m \u001b[1;32mimport\u001b[0m \u001b[0mseaborn\u001b[0m \u001b[1;32mas\u001b[0m \u001b[0msns\u001b[0m\u001b[1;33m\u001b[0m\u001b[1;33m\u001b[0m\u001b[0m\n\u001b[1;32m---> 16\u001b[1;33m \u001b[1;32mfrom\u001b[0m \u001b[0mwordcloud\u001b[0m \u001b[1;32mimport\u001b[0m \u001b[0mWordCloud\u001b[0m\u001b[1;33m\u001b[0m\u001b[1;33m\u001b[0m\u001b[0m\n\u001b[0m\u001b[0;32m     17\u001b[0m \u001b[1;33m\u001b[0m\u001b[0m\n\u001b[0;32m     18\u001b[0m \u001b[1;33m\u001b[0m\u001b[0m\n",
      "\u001b[1;31mModuleNotFoundError\u001b[0m: No module named 'wordcloud'"
     ]
    }
   ],
   "source": [
    "import requests\n",
    "import re\n",
    "from bs4 import BeautifulSoup\n",
    "\n",
    "#--- Preprocessing and TextMining\n",
    "import pandas as pd\n",
    "import nltk\n",
    "from nltk.corpus import stopwords\n",
    "nltk.download(\"stopwords\")\n",
    "stopwords = stopwords.words('french')\n",
    "\n",
    "#--- DataViz\n",
    "import matplotlib.pyplot as plt\n",
    "import matplotlib.pyplot as plt\n",
    "import seaborn as sns\n",
    "from wordcloud import WordCloud\n",
    "\n",
    "\n",
    "#Requests and BeautifulSoup\n",
    "r = requests.get(\"https://www.lemonde.fr/\")\n",
    "soup = BeautifulSoup(r.text, 'html.parser')\n",
    "results = soup.find_all('span', attrs={'class':'article__title-label'})\n",
    "titre = [results[i].text for i in range(len(results))]\n",
    "\n",
    "other_words = ['entre', 'depuis', 'avant', 'avant', 'quel', 'fait', 'déjà']\n",
    "#French STOP WORDS and Ponctuations\n",
    "pat = r'\\b(?:{})\\b'.format('|'.join(stopwords+other_words))\n",
    "p = r'[^\\w\\s]+'\n",
    "\n",
    "#Create a DataFrame\n",
    "df = pd.DataFrame(titre, columns=['titre'])\n",
    "df['titre'] = df['titre'].str.lower()\n",
    "df['titre'] = df['titre'].str.replace(pat, '')\n",
    "df['titre'] = df['titre'].str.replace(p, '')\n",
    "\n",
    "#Sentences to words and Preprocessing\n",
    "word_count = pd.Series(' '.join(df.titre).split(), name=\"mots\")\n",
    "df = pd.DataFrame(word_count)\n",
    "mask = (df['mots'].str.len() >= 3)\n",
    "df = df.loc[mask]\n",
    "\n",
    "#Show wordCloud top 500 words and save image file\n",
    "top_mots = df.mots.value_counts().iloc[:500].index\n",
    "w = WordCloud(width=1000, height=300, max_words=100, contour_width=3, contour_color='stwhiteeelblue').generate(' '.join(top_mots))\n",
    "plt.figure( figsize=(15,7), facecolor='k')\n",
    "plt.imshow(w)\n",
    "plt.axis(\"off\")\n",
    "plt.savefig('wordcloud.png', facecolor='k', bbox_inches='tight')\n",
    "plt.show()"
   ]
  },
  {
   "cell_type": "code",
   "execution_count": null,
   "metadata": {},
   "outputs": [],
   "source": []
  }
 ],
 "metadata": {
  "kernelspec": {
   "display_name": "Python 3",
   "language": "python",
   "name": "python3"
  },
  "language_info": {
   "codemirror_mode": {
    "name": "ipython",
    "version": 3
   },
   "file_extension": ".py",
   "mimetype": "text/x-python",
   "name": "python",
   "nbconvert_exporter": "python",
   "pygments_lexer": "ipython3",
   "version": "3.8.3"
  }
 },
 "nbformat": 4,
 "nbformat_minor": 4
}
