{
 "cells": [
  {
   "cell_type": "code",
   "execution_count": 2,
   "metadata": {},
   "outputs": [
    {
     "name": "stdout",
     "output_type": "stream",
     "text": [
      "[4, 3, 1, 1, 0]\n"
     ]
    }
   ],
   "source": [
    "#주식가격\n",
    "def solution(prices):\n",
    "    answer = [0]*len(prices)\n",
    "    for i in range(len(prices)-1):\n",
    "        for j in range(i,len(prices)-1):\n",
    "            if prices[i]>prices[j]:\n",
    "                break\n",
    "            else:\n",
    "                answer[i]+=1\n",
    "    return answer\n",
    "print(solution([1,2,3,2,3]))"
   ]
  },
  {
   "cell_type": "code",
   "execution_count": 9,
   "metadata": {},
   "outputs": [
    {
     "name": "stdout",
     "output_type": "stream",
     "text": [
      "[16]\n",
      "[16, 15.0]\n",
      "[16, 15.0, 16.0]\n",
      "[3]\n",
      "21 5\n",
      "25 5\n",
      "2\n",
      "20 5\n",
      "3\n",
      "[3]\n"
     ]
    }
   ],
   "source": [
    "#기능 개발\n",
    "def solution(progresses, speeds):\n",
    "    dday=[]\n",
    "    max=0\n",
    "    answer = []\n",
    "    for i in range(len(progresses)):\n",
    "        if (100-progresses[i])%speeds[i]==0:\n",
    "            dday.append((100-progresses[i])/speeds[i])\n",
    "        else:\n",
    "            dday.append(((100-progresses[i])//speeds[i])+1)\n",
    "        print(dday)\n",
    "        if max<dday[i]:\n",
    "            answer.append(1)\n",
    "            max=dday[i]\n",
    "        elif max==dday[i]:\n",
    "            answer.append(answer.pop()+1)\n",
    "        elif max>dday[i]:\n",
    "            answer.append(answer.pop()+1)\n",
    "    return answer\n",
    "\n",
    "print(solution([21,25,20],[5,5,5]))\n",
    "\n",
    "\n",
    "def solution2(progresses, speeds):\n",
    "    Q=[]\n",
    "    for p, s in zip(progresses, speeds): #튜플을 만들어주는 내장함수\n",
    "        print(p,s)\n",
    "        if len(Q)==0 or Q[-1][0]<-((p-100)//s):\n",
    "            Q.append([-((p-100)//s),1])\n",
    "        else:\n",
    "            Q[-1][1]+=1 #끝에 있는 값중에서 s값 증가\n",
    "            print(Q[-1][1])\n",
    "    return [q[1] for q in Q]\n",
    "print(solution2([21,25,20],[5,5,5]))"
   ]
  },
  {
   "cell_type": "code",
   "execution_count": null,
   "metadata": {},
   "outputs": [],
   "source": [
    "#다리를 지나는 트럭\n",
    "def solution(bridge_length, weight, truck_weights):\n",
    "    answer = 0\n",
    "    return answer"
   ]
  }
 ],
 "metadata": {
  "kernelspec": {
   "display_name": "Python 3",
   "language": "python",
   "name": "python3"
  },
  "language_info": {
   "codemirror_mode": {
    "name": "ipython",
    "version": 3
   },
   "file_extension": ".py",
   "mimetype": "text/x-python",
   "name": "python",
   "nbconvert_exporter": "python",
   "pygments_lexer": "ipython3",
   "version": "3.8.3"
  }
 },
 "nbformat": 4,
 "nbformat_minor": 4
}
