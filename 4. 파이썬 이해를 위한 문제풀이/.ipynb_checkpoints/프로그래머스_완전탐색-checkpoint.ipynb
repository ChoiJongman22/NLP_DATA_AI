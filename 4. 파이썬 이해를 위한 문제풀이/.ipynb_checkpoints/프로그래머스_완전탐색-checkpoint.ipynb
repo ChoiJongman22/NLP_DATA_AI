{
 "cells": [
  {
   "cell_type": "code",
   "execution_count": 2,
   "metadata": {},
   "outputs": [
    {
     "name": "stdout",
     "output_type": "stream",
     "text": [
      "[1, 2, 3]\n"
     ]
    }
   ],
   "source": [
    "#1번. 모의고사\n",
    "def solution(answers):\n",
    "    Student1=[1,2,3,4,5]\n",
    "    Student2=[2,1,2,3,2,4,2,5]\n",
    "    Student3=[3,3,1,1,2,2,4,4,5,5]\n",
    "    S=[0,0,0]\n",
    "    for i in range(len(answers)):\n",
    "        if answers[i]==Student1[i%len(Student1)]:\n",
    "            S[0]+=1\n",
    "        if answers[i]==Student2[i%len(Student2)]:\n",
    "            S[1]+=1\n",
    "        if answers[i]==Student3[i%len(Student3)]:\n",
    "            S[2]+=1\n",
    "    answer=[]\n",
    "    if max(S)==S[0]:\n",
    "        answer.append(1)\n",
    "    if max(S)==S[1]:\n",
    "        answer.append(2)\n",
    "    if max(S)==S[2]:\n",
    "        answer.append(3)\n",
    "    \n",
    "    return sorted(answer)\n",
    "\n",
    "print(solution([1,3,2,4,2]))\n",
    "    "
   ]
  },
  {
   "cell_type": "code",
   "execution_count": null,
   "metadata": {},
   "outputs": [],
   "source": [
    "#2번 모의고사 "
   ]
  }
 ],
 "metadata": {
  "kernelspec": {
   "display_name": "Python 3",
   "language": "python",
   "name": "python3"
  },
  "language_info": {
   "codemirror_mode": {
    "name": "ipython",
    "version": 3
   },
   "file_extension": ".py",
   "mimetype": "text/x-python",
   "name": "python",
   "nbconvert_exporter": "python",
   "pygments_lexer": "ipython3",
   "version": "3.8.3"
  }
 },
 "nbformat": 4,
 "nbformat_minor": 4
}
