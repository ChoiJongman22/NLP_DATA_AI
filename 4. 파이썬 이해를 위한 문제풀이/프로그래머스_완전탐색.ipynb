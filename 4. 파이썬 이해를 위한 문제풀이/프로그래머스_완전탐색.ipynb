{
 "cells": [
  {
   "cell_type": "code",
   "execution_count": 2,
   "metadata": {},
   "outputs": [
    {
     "name": "stdout",
     "output_type": "stream",
     "text": [
      "[1, 2, 3]\n"
     ]
    }
   ],
   "source": [
    "#1번. 모의고사\n",
    "def solution(answers):\n",
    "    Student1=[1,2,3,4,5]\n",
    "    Student2=[2,1,2,3,2,4,2,5]\n",
    "    Student3=[3,3,1,1,2,2,4,4,5,5]\n",
    "    S=[0,0,0]\n",
    "    for i in range(len(answers)):\n",
    "        if answers[i]==Student1[i%len(Student1)]:\n",
    "            S[0]+=1\n",
    "        if answers[i]==Student2[i%len(Student2)]:\n",
    "            S[1]+=1\n",
    "        if answers[i]==Student3[i%len(Student3)]:\n",
    "            S[2]+=1\n",
    "    answer=[]\n",
    "    if max(S)==S[0]:\n",
    "        answer.append(1)\n",
    "    if max(S)==S[1]:\n",
    "        answer.append(2)\n",
    "    if max(S)==S[2]:\n",
    "        answer.append(3)\n",
    "    \n",
    "    return sorted(answer)\n",
    "\n",
    "print(solution([1,3,2,4,2]))\n",
    "    "
   ]
  },
  {
   "cell_type": "code",
   "execution_count": 1,
   "metadata": {},
   "outputs": [
    {
     "name": "stdout",
     "output_type": "stream",
     "text": [
      "['0', '1', '1']\n",
      "[('0',), ('1',), ('1',)]\n",
      "[('0', '1'), ('0', '1'), ('1', '0'), ('1', '1'), ('1', '0'), ('1', '1')]\n",
      "[('0', '1', '1'), ('0', '1', '1'), ('1', '0', '1'), ('1', '1', '0'), ('1', '0', '1'), ('1', '1', '0')]\n",
      "[0, 1, 101, 10, 11, 110]\n",
      "2\n"
     ]
    }
   ],
   "source": [
    "#2번 소수찾기\n",
    "import itertools\n",
    "#소수집합 만들기\n",
    "def func(n):\n",
    "    num= set(range(2,n+1))\n",
    "    \n",
    "    for i in range(2, n+1):\n",
    "        if i in num:\n",
    "        \tnum -= set(range(2*i, n+1, i)) #차집합\n",
    "    return num\n",
    "\n",
    "def solution(numbers):\n",
    "    answer=0\n",
    "    split_numbers=list(numbers)\n",
    "    print(split_numbers)\n",
    "    per_list=[]#각 개수별로 순열 담을 리스트\n",
    "    union_per_list=[]\n",
    "    for i in range(1,len(split_numbers)+1):\n",
    "        per_list=list(itertools.permutations(split_numbers,i))\n",
    "        print(per_list)\n",
    "        for j in range(len(per_list)):\n",
    "            union_per_list.append(int(''.join(per_list[j])))\n",
    "    union_per_list=list(set(union_per_list))\n",
    "    print(union_per_list)\n",
    "    max_value=max(union_per_list)\n",
    "    prime_list=func(max_value+1)\n",
    "    for i in range(len(union_per_list)):\n",
    "        if union_per_list[i] in prime_list:\n",
    "            answer+=1\n",
    "    return answer\n",
    "\n",
    "\n",
    "print(solution(\"011\"))\n",
    "    \n",
    "                           \n",
    "    "
   ]
  },
  {
   "cell_type": "code",
   "execution_count": null,
   "metadata": {},
   "outputs": [],
   "source": []
  }
 ],
 "metadata": {
  "kernelspec": {
   "display_name": "Python 3",
   "language": "python",
   "name": "python3"
  },
  "language_info": {
   "codemirror_mode": {
    "name": "ipython",
    "version": 3
   },
   "file_extension": ".py",
   "mimetype": "text/x-python",
   "name": "python",
   "nbconvert_exporter": "python",
   "pygments_lexer": "ipython3",
   "version": "3.8.3"
  }
 },
 "nbformat": 4,
 "nbformat_minor": 4
}
