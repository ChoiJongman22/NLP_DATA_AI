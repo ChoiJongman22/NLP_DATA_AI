{
 "cells": [
  {
   "cell_type": "code",
   "execution_count": 39,
   "metadata": {},
   "outputs": [
    {
     "data": {
      "text/plain": [
       "779"
      ]
     },
     "execution_count": 39,
     "metadata": {},
     "output_type": "execute_result"
    }
   ],
   "source": [
    "sentence = \"\"\"빅 데이터(영어: big data)란 기존 데이터베이스 관리도구의 능력을 넘어서는 대량(수십 테라바이트)의 정형 또는 심지어 데이터베이스 형태가 아닌 비정형의 데이터 집합조차 포함한 데이터로부터 가치를 추출하고 결과를 분석하는 기술이다. 즉, 기존의 데이터 베이스로는 처리하기 어려울 정도로 방대한 양의 데이터를 의미한다. \n",
    "\n",
    "다양한 종류의 대규모 데이터에 대한 생성, 수집, 분석, 표현을 그 특징으로 하는 빅 데이터 기술의 발전은 다변화된 현대 사회를 더욱 정확하게 예측하여 효율적으로 작동케 하고 개인화된 현대 사회 구성원마다 맞춤형 정보를 제공, 관리, 분석 가능케 하며 과거에는 불가능했던 기술을 실현시키기도 한다.\n",
    "\n",
    "이같이 빅 데이터는 정치, 사회, 경제, 문화, 과학 기술 등 전 영역에 걸쳐서 사회와 인류에게 가치 있는 정보를 제공할 수 있는 가능성을 제시하며 그 중요성이 부각되고 있다.\n",
    "\n",
    "하지만 빅데이터의 문제점은 바로 사생활 침해와 보안 측면에 자리하고 있다. 빅데이터는 수많은 개인들의 수많은 정보의 집합이다. 그렇기에 빅데이터를 수집, 분석할 때에 개인들의 사적인 정보까지 수집하여 관리하는 빅브라더의 모습이 될 수도 있는 것이다. 그리고 그렇게 모은 데이터가 보안 문제로 유출된다면, 이 역시 거의 모든 사람들의 정보가 유출되는 것이기에 큰 문제가 될 수 있다.\n",
    "\n",
    "세계 경제 포럼은 2012년 떠오르는 10대 기술 중 그 첫 번째를 빅 데이터 기술로 선정 했으며 대한민국 지식경제부 R&D 전략기획단은 IT 10대 핵심기술 가운데 하나로 빅 데이터를 선정 하기도 했다\"\"\"\n",
    "\n",
    "len(sentence)"
   ]
  },
  {
   "cell_type": "code",
   "execution_count": 40,
   "metadata": {},
   "outputs": [
    {
     "data": {
      "text/plain": [
       "['빅',\n",
       " '데이터(영어:',\n",
       " 'big',\n",
       " 'data)란',\n",
       " '기존',\n",
       " '데이터베이스',\n",
       " '관리도구의',\n",
       " '능력을',\n",
       " '넘어서는',\n",
       " '대량(수십',\n",
       " '테라바이트)의',\n",
       " '정형',\n",
       " '또는',\n",
       " '심지어',\n",
       " '데이터베이스',\n",
       " '형태가',\n",
       " '아닌',\n",
       " '비정형의',\n",
       " '데이터',\n",
       " '집합조차',\n",
       " '포함한',\n",
       " '데이터로부터',\n",
       " '가치를',\n",
       " '추출하고',\n",
       " '결과를',\n",
       " '분석하는',\n",
       " '기술이다.',\n",
       " '즉,',\n",
       " '기존의',\n",
       " '데이터',\n",
       " '베이스로는',\n",
       " '처리하기',\n",
       " '어려울',\n",
       " '정도로',\n",
       " '방대한',\n",
       " '양의',\n",
       " '데이터를',\n",
       " '의미한다.',\n",
       " '\\n\\n다양한',\n",
       " '종류의',\n",
       " '대규모',\n",
       " '데이터에',\n",
       " '대한',\n",
       " '생성,',\n",
       " '수집,',\n",
       " '분석,',\n",
       " '표현을',\n",
       " '그',\n",
       " '특징으로',\n",
       " '하는',\n",
       " '빅',\n",
       " '데이터',\n",
       " '기술의',\n",
       " '발전은',\n",
       " '다변화된',\n",
       " '현대',\n",
       " '사회를',\n",
       " '더욱',\n",
       " '정확하게',\n",
       " '예측하여',\n",
       " '효율적으로',\n",
       " '작동케',\n",
       " '하고',\n",
       " '개인화된',\n",
       " '현대',\n",
       " '사회',\n",
       " '구성원마다',\n",
       " '맞춤형',\n",
       " '정보를',\n",
       " '제공,',\n",
       " '관리,',\n",
       " '분석',\n",
       " '가능케',\n",
       " '하며',\n",
       " '과거에는',\n",
       " '불가능했던',\n",
       " '기술을',\n",
       " '실현시키기도',\n",
       " '한다.\\n\\n이같이',\n",
       " '빅',\n",
       " '데이터는',\n",
       " '정치,',\n",
       " '사회,',\n",
       " '경제,',\n",
       " '문화,',\n",
       " '과학',\n",
       " '기술',\n",
       " '등',\n",
       " '전',\n",
       " '영역에',\n",
       " '걸쳐서',\n",
       " '사회와',\n",
       " '인류에게',\n",
       " '가치',\n",
       " '있는',\n",
       " '정보를',\n",
       " '제공할',\n",
       " '수',\n",
       " '있는',\n",
       " '가능성을',\n",
       " '제시하며',\n",
       " '그',\n",
       " '중요성이',\n",
       " '부각되고',\n",
       " '있다.\\n\\n하지만',\n",
       " '빅데이터의',\n",
       " '문제점은',\n",
       " '바로',\n",
       " '사생활',\n",
       " '침해와',\n",
       " '보안',\n",
       " '측면에',\n",
       " '자리하고',\n",
       " '있다.',\n",
       " '빅데이터는',\n",
       " '수많은',\n",
       " '개인들의',\n",
       " '수많은',\n",
       " '정보의',\n",
       " '집합이다.',\n",
       " '그렇기에',\n",
       " '빅데이터를',\n",
       " '수집,',\n",
       " '분석할',\n",
       " '때에',\n",
       " '개인들의',\n",
       " '사적인',\n",
       " '정보까지',\n",
       " '수집하여',\n",
       " '관리하는',\n",
       " '빅브라더의',\n",
       " '모습이',\n",
       " '될',\n",
       " '수도',\n",
       " '있는',\n",
       " '것이다.',\n",
       " '그리고',\n",
       " '그렇게',\n",
       " '모은',\n",
       " '데이터가',\n",
       " '보안',\n",
       " '문제로',\n",
       " '유출된다면,',\n",
       " '이',\n",
       " '역시',\n",
       " '거의',\n",
       " '모든',\n",
       " '사람들의',\n",
       " '정보가',\n",
       " '유출되는',\n",
       " '것이기에',\n",
       " '큰',\n",
       " '문제가',\n",
       " '될',\n",
       " '수',\n",
       " '있다.\\n\\n세계',\n",
       " '경제',\n",
       " '포럼은',\n",
       " '2012년',\n",
       " '떠오르는',\n",
       " '10대',\n",
       " '기술',\n",
       " '중',\n",
       " '그',\n",
       " '첫',\n",
       " '번째를',\n",
       " '빅',\n",
       " '데이터',\n",
       " '기술로',\n",
       " '선정',\n",
       " '했으며',\n",
       " '대한민국',\n",
       " '지식경제부',\n",
       " 'R&D',\n",
       " '전략기획단은',\n",
       " 'IT',\n",
       " '10대',\n",
       " '핵심기술',\n",
       " '가운데',\n",
       " '하나로',\n",
       " '빅',\n",
       " '데이터를',\n",
       " '선정',\n",
       " '하기도',\n",
       " '했다']"
      ]
     },
     "execution_count": 40,
     "metadata": {},
     "output_type": "execute_result"
    }
   ],
   "source": [
    "sentence.split(\" \") #빈칸 중심으로 sentence나눠서 리스트화"
   ]
  },
  {
   "cell_type": "code",
   "execution_count": 41,
   "metadata": {},
   "outputs": [
    {
     "data": {
      "text/plain": [
       "0"
      ]
     },
     "execution_count": 41,
     "metadata": {},
     "output_type": "execute_result"
    }
   ],
   "source": [
    "sentence.index('빅')"
   ]
  },
  {
   "cell_type": "code",
   "execution_count": 42,
   "metadata": {},
   "outputs": [
    {
     "data": {
      "text/plain": [
       "18"
      ]
     },
     "execution_count": 42,
     "metadata": {},
     "output_type": "execute_result"
    }
   ],
   "source": [
    "sentence.split().index(\"데이터\")"
   ]
  },
  {
   "cell_type": "code",
   "execution_count": 43,
   "metadata": {},
   "outputs": [
    {
     "name": "stdout",
     "output_type": "stream",
     "text": [
      "빅 데이터(영어:\n"
     ]
    }
   ],
   "source": [
    "wd = sentence.split()\n",
    "print(wd[0] + ' ' + wd[1])"
   ]
  },
  {
   "cell_type": "code",
   "execution_count": 44,
   "metadata": {},
   "outputs": [
    {
     "data": {
      "text/plain": [
       "'빅_데이터(영어:_big_data)란_기존_데이터베이스_관리도구의_능력을_넘어서는_대량(수십_테라바이트)의_정형_또는_심지어_데이터베이스_형태가_아닌_비정형의_데이터_집합조차_포함한_데이터로부터_가치를_추출하고_결과를_분석하는_기술이다._즉,_기존의_데이터_베이스로는_처리하기_어려울_정도로_방대한_양의_데이터를_의미한다._다양한_종류의_대규모_데이터에_대한_생성,_수집,_분석,_표현을_그_특징으로_하는_빅_데이터_기술의_발전은_다변화된_현대_사회를_더욱_정확하게_예측하여_효율적으로_작동케_하고_개인화된_현대_사회_구성원마다_맞춤형_정보를_제공,_관리,_분석_가능케_하며_과거에는_불가능했던_기술을_실현시키기도_한다._이같이_빅_데이터는_정치,_사회,_경제,_문화,_과학_기술_등_전_영역에_걸쳐서_사회와_인류에게_가치_있는_정보를_제공할_수_있는_가능성을_제시하며_그_중요성이_부각되고_있다._하지만_빅데이터의_문제점은_바로_사생활_침해와_보안_측면에_자리하고_있다._빅데이터는_수많은_개인들의_수많은_정보의_집합이다._그렇기에_빅데이터를_수집,_분석할_때에_개인들의_사적인_정보까지_수집하여_관리하는_빅브라더의_모습이_될_수도_있는_것이다._그리고_그렇게_모은_데이터가_보안_문제로_유출된다면,_이_역시_거의_모든_사람들의_정보가_유출되는_것이기에_큰_문제가_될_수_있다._세계_경제_포럼은_2012년_떠오르는_10대_기술_중_그_첫_번째를_빅_데이터_기술로_선정_했으며_대한민국_지식경제부_R&D_전략기획단은_IT_10대_핵심기술_가운데_하나로_빅_데이터를_선정_하기도_했다'"
      ]
     },
     "execution_count": 44,
     "metadata": {},
     "output_type": "execute_result"
    }
   ],
   "source": [
    "('_'.join(sentence.split())) #_로 합치는 것."
   ]
  },
  {
   "cell_type": "code",
   "execution_count": 45,
   "metadata": {},
   "outputs": [
    {
     "name": "stdout",
     "output_type": "stream",
     "text": [
      "Natural\n",
      "Language\n",
      "Processing\n"
     ]
    }
   ],
   "source": [
    "sentence2 = [\" Natural  \", \"  Language              \", \"    Processing   \"]\n",
    "for i in range(len(sentence2)):\n",
    "    print(sentence2[i].strip())"
   ]
  },
  {
   "cell_type": "code",
   "execution_count": 46,
   "metadata": {},
   "outputs": [
    {
     "name": "stdout",
     "output_type": "stream",
     "text": [
      "Natural  \n",
      "Language              \n",
      "Processing   \n"
     ]
    }
   ],
   "source": [
    "for i in range(len(sentence2)):\n",
    "    print(sentence2[i].lstrip())"
   ]
  },
  {
   "cell_type": "code",
   "execution_count": 47,
   "metadata": {},
   "outputs": [
    {
     "name": "stdout",
     "output_type": "stream",
     "text": [
      " Natural\n",
      "  Language\n",
      "    Processing\n"
     ]
    }
   ],
   "source": [
    "for i in range(len(sentence2)):\n",
    "    print(sentence2[i].rstrip())"
   ]
  },
  {
   "cell_type": "code",
   "execution_count": 48,
   "metadata": {},
   "outputs": [
    {
     "name": "stdout",
     "output_type": "stream",
     "text": [
      "빅 데이터(영어: big data)란 기존 데이터베이스 관리도구의 능력을 넘어서는 대량(수십 테라바이트)의 정형 또는 심지어 데이터베이스 형태가 아닌 비정형의 데이터 집합조차 포함한 데이터로부터 가치를 추출하고 결과를 분석하는 기술이다. 즉, 기존의 데이터 베이스로는 처리하기 어려울 정도로 방대한 양의 데이터를 의미한다. \n"
     ]
    }
   ],
   "source": [
    "#여러개 문자열에서 특정단어를 포함한 문자열 추출\n",
    "sentences=sentence.split(\"\\n\")\n",
    "for sent in sentences:\n",
    "    if '데이터베이스' in sent:\n",
    "        print(sent)"
   ]
  },
  {
   "cell_type": "code",
   "execution_count": 49,
   "metadata": {},
   "outputs": [],
   "source": [
    "import re\n",
    "str = \"\"\"\n",
    "1. 입찰건명: 노후 스팸필터 서버 교체 사업\n",
    "2. 사업예산: 35,000,000원 (부가세 포함)\n",
    "3. 입찰방법: 일반경쟁입찰 (최저가 낙찰)\n",
    "4. 입찰등록마감 일시: 2020. 4. 20(월) 14:00, (제출 : 서울상공회의소 총무팀(19층))\n",
    "5. 입찰 일시 및 장소: 2020. 4. 23(목) 11:00, 소회의실4 (본소 지하2층)  \n",
    "6. 입찰참가자격: 서울상공회의소 회원업체로서 회원의 의무를 다한 업체, 사업개시 3년 이상인 업체, 사업설명회에 참석한 업체\n",
    "\"\"\""
   ]
  },
  {
   "cell_type": "code",
   "execution_count": 50,
   "metadata": {},
   "outputs": [
    {
     "name": "stdout",
     "output_type": "stream",
     "text": [
      "['', '1. 입찰건명: 노후 스팸필터 서버 교체 사업', '2. 사업예산: 35,000,000원 (부가세 포함)', '3. 입찰방법: 일반경쟁입찰 (최저가 낙찰)', '4. 입찰등록마감 일시: 2020. 4. 20(월) 14:00, (제출 : 서울상공회의소 총무팀(19층))', '5. 입찰 일시 및 장소: 2020. 4. 23(목) 11:00, 소회의실4 (본소 지하2층)  ', '6. 입찰참가자격: 서울상공회의소 회원업체로서 회원의 의무를 다한 업체, 사업개시 3년 이상인 업체, 사업설명회에 참석한 업체', '']\n"
     ]
    }
   ],
   "source": [
    "#정규 표현식 컴파일\n",
    "p=re.compile('\\n')\n",
    "m=p.split(str)\n",
    "print(m)"
   ]
  },
  {
   "cell_type": "code",
   "execution_count": 51,
   "metadata": {},
   "outputs": [
    {
     "name": "stdout",
     "output_type": "stream",
     "text": [
      "[[''], ['1. 입찰건명', ' 노후 스팸필터 서버 교체 사업'], ['2. 사업예산', ' 35,000,000원 (부가세 포함)'], ['3. 입찰방법', ' 일반경쟁입찰 (최저가 낙찰)'], ['4. 입찰등록마감 일시', ' 2020. 4. 20(월) 14', '00, (제출 : 서울상공회의소 총무팀(19층))'], ['5. 입찰 일시 및 장소', ' 2020. 4. 23(목) 11', '00, 소회의실4 (본소 지하2층)  '], ['6. 입찰참가자격', ' 서울상공회의소 회원업체로서 회원의 의무를 다한 업체, 사업개시 3년 이상인 업체, 사업설명회에 참석한 업체'], ['']]\n"
     ]
    }
   ],
   "source": [
    "s=[re.split(\":\",entry,2) for entry in m]\n",
    "print(s)"
   ]
  },
  {
   "cell_type": "code",
   "execution_count": 52,
   "metadata": {},
   "outputs": [
    {
     "name": "stdout",
     "output_type": "stream",
     "text": [
      "\n",
      "1. 입찰건명\n",
      "2. 사업예산\n",
      "3. 입찰방법\n",
      "4. 입찰등록마감 일시\n",
      "5. 입찰 일시 및 장소\n",
      "6. 입찰참가자격\n",
      "\n"
     ]
    }
   ],
   "source": [
    "for entry in s:\n",
    "    print(entry[0])"
   ]
  },
  {
   "cell_type": "code",
   "execution_count": 53,
   "metadata": {},
   "outputs": [
    {
     "name": "stdout",
     "output_type": "stream",
     "text": [
      " 35,000,000원 (부가세 포함)\n"
     ]
    }
   ],
   "source": [
    "#앞의 제목에 만족하면 뒤에 내용을 출력할 수 있도록 하자.\n",
    "for entry in s:\n",
    "    if re.search('사업예산',entry[0]):\n",
    "        print(entry[1])"
   ]
  },
  {
   "cell_type": "code",
   "execution_count": 54,
   "metadata": {},
   "outputs": [
    {
     "data": {
      "text/plain": [
       "['Text',\n",
       " 'mining',\n",
       " ',',\n",
       " 'also',\n",
       " 'referred',\n",
       " 'to',\n",
       " 'as',\n",
       " 'text',\n",
       " 'data',\n",
       " 'mining',\n",
       " ',',\n",
       " 'similar',\n",
       " 'to',\n",
       " 'text',\n",
       " 'analytics',\n",
       " ',',\n",
       " 'is',\n",
       " 'the',\n",
       " 'process',\n",
       " 'of',\n",
       " 'deriving',\n",
       " 'high-quality',\n",
       " 'information',\n",
       " 'from',\n",
       " 'text',\n",
       " '.']"
      ]
     },
     "execution_count": 54,
     "metadata": {},
     "output_type": "execute_result"
    }
   ],
   "source": [
    "import nltk\n",
    "from nltk.tokenize import word_tokenize\n",
    "text=\"Text mining, also referred to as text data mining, similar to text analytics, is the process of deriving high-quality information from text.\"\n",
    "word_tokenize(text)"
   ]
  },
  {
   "cell_type": "code",
   "execution_count": 55,
   "metadata": {},
   "outputs": [
    {
     "data": {
      "text/plain": [
       "['It involves the discovery by computer of new, previously unknown information, by automatically extracting information from different written resources.',\n",
       " 'Written resources may include websites, books, emails, reviews, and articles.',\n",
       " 'High-quality information is typically obtained by devising patterns and trends by means such as statistical pattern learning.',\n",
       " 'According to Hotho et al.',\n",
       " '(2005) we can differ three different perspectives of text mining: information extraction, data mining, and a KDD (Knowledge Discovery in Databases) process.']"
      ]
     },
     "execution_count": 55,
     "metadata": {},
     "output_type": "execute_result"
    }
   ],
   "source": [
    "from nltk.tokenize import sent_tokenize\n",
    "text=\"\"\"It involves the discovery by computer of new, previously unknown information, by automatically extracting information from different written resources. \n",
    "Written resources may include websites, books, emails, reviews, and articles. \n",
    "High-quality information is typically obtained by devising patterns and trends by means such as statistical pattern learning. \n",
    "According to Hotho et al. (2005) we can differ three different perspectives of text mining: information extraction, data mining, and a KDD (Knowledge Discovery in Databases) process.\"\"\"\n",
    "sent_tokenize(text)"
   ]
  },
  {
   "cell_type": "code",
   "execution_count": 56,
   "metadata": {},
   "outputs": [
    {
     "data": {
      "text/plain": [
       "['텍스트',\n",
       " '분석',\n",
       " '을',\n",
       " '위해',\n",
       " '서',\n",
       " '파이썬',\n",
       " '을',\n",
       " '이용',\n",
       " '합니다',\n",
       " '.',\n",
       " '한글',\n",
       " '문장',\n",
       " '에서',\n",
       " '단어',\n",
       " '를',\n",
       " '추출',\n",
       " '하는',\n",
       " '패키지',\n",
       " '는',\n",
       " 'konlpy',\n",
       " '입니다',\n",
       " '.']"
      ]
     },
     "execution_count": 56,
     "metadata": {},
     "output_type": "execute_result"
    }
   ],
   "source": [
    "from konlpy.tag import Okt\n",
    "s=\"텍스트 분석을 위해서 파이썬을 이용합니다. 한글 문장에서 단어를 추출하는 패키지는 konlpy입니다.\"\n",
    "okt=Okt()\n",
    "okt.morphs(s)"
   ]
  },
  {
   "cell_type": "code",
   "execution_count": 57,
   "metadata": {},
   "outputs": [
    {
     "name": "stdout",
     "output_type": "stream",
     "text": [
      "I visited United States from United Kingdom on 22-10-2018\n"
     ]
    }
   ],
   "source": [
    "#텍스트 정규화\n",
    "sentence='I visited US from UK on 22-10-18'\n",
    "normalized_sentence=sentence.replace(\"US\",\"United States\").replace(\"UK\",\"United Kingdom\").replace(\"-18\",\"-2018\")\n",
    "print(normalized_sentence)"
   ]
  },
  {
   "cell_type": "code",
   "execution_count": 59,
   "metadata": {},
   "outputs": [
    {
     "data": {
      "text/plain": [
       "\"김형호 영화시장 분석가는 '1987'의 네이버 영화 정보 네티즌 10점 평에서 언급된 단어들을 지난해 12월 27일부터 올해 1월 10일까지 통계 프로그램 R과 KoNLP 패키지로 텍스트마이닝하여 분석했다.\""
      ]
     },
     "execution_count": 59,
     "metadata": {},
     "output_type": "execute_result"
    }
   ],
   "source": [
    "#pykospacing\n",
    "from pykospacing import spacing\n",
    "spacing(\"김형호영화시장분석가는'1987'의네이버영화정보네티즌10점평에서언급된단어들을지난해12월27일부터올해1월10일까지통계프로그램R과KoNLP패키지로텍스트마이닝하여분석했다.\")\n"
   ]
  },
  {
   "cell_type": "code",
   "execution_count": 60,
   "metadata": {},
   "outputs": [],
   "source": [
    "from hanspell import spell_checker"
   ]
  },
  {
   "cell_type": "code",
   "execution_count": 63,
   "metadata": {},
   "outputs": [
    {
     "name": "stdout",
     "output_type": "stream",
     "text": [
      "Checked(result=True, original='맞춤범 틀리면 외 않되? 쓰고싶은대로쓰면돼지', checked='맞춤법 틀리면 왜 안돼? 쓰고 싶은 대로 쓰면 되지', errors=3, words=OrderedDict([('맞춤법', 1), ('틀리면', 0), ('왜', 1), ('안돼?', 1), ('쓰고', 1), ('싶은', 1), ('대로', 1), ('쓰면', 1), ('되지', 1)]), time=0.0378110408782959)\n"
     ]
    }
   ],
   "source": [
    "sent=\"맞춤범 틀리면 외 않되? 쓰고싶은대로쓰면돼지\"\n",
    "spelled_sent = spell_checker.check(sent)\n",
    "print(spelled_sent)"
   ]
  },
  {
   "cell_type": "code",
   "execution_count": 64,
   "metadata": {},
   "outputs": [
    {
     "name": "stdout",
     "output_type": "stream",
     "text": [
      "['policy', 'doing', 'organization', 'have', 'going', 'love', 'life', 'fly', 'dy', 'watched', 'ha', 'starting']\n"
     ]
    }
   ],
   "source": [
    "from nltk.stem import WordNetLemmatizer\n",
    "n=WordNetLemmatizer()\n",
    "words=['policy', 'doing', 'organization', 'have', 'going', 'love', 'lives', 'fly', 'dies', 'watched', 'has', 'starting']\n",
    "print([n.lemmatize(w) for w in words])"
   ]
  },
  {
   "cell_type": "code",
   "execution_count": 65,
   "metadata": {},
   "outputs": [
    {
     "data": {
      "text/plain": [
       "'die'"
      ]
     },
     "execution_count": 65,
     "metadata": {},
     "output_type": "execute_result"
    }
   ],
   "source": [
    "n.lemmatize('dies','v') #dies가 동사라는 사실을 알려준다."
   ]
  },
  {
   "cell_type": "code",
   "execution_count": 66,
   "metadata": {},
   "outputs": [
    {
     "data": {
      "text/plain": [
       "'watch'"
      ]
     },
     "execution_count": 66,
     "metadata": {},
     "output_type": "execute_result"
    }
   ],
   "source": [
    "n.lemmatize('watched','v')"
   ]
  },
  {
   "cell_type": "code",
   "execution_count": 67,
   "metadata": {},
   "outputs": [
    {
     "name": "stdout",
     "output_type": "stream",
     "text": [
      "['This', 'was', 'not', 'the', 'map', 'we', 'found', 'in', 'Billy', 'Bones', \"'s\", 'chest', ',', 'but', 'an', 'accurate', 'copy', ',', 'complete', 'in', 'all', 'things', '--', 'names', 'and', 'heights', 'and', 'soundings', '--', 'with', 'the', 'single', 'exception', 'of', 'the', 'red', 'crosses', 'and', 'the', 'written', 'notes', '.']\n"
     ]
    }
   ],
   "source": [
    "from nltk.stem import PorterStemmer\n",
    "from nltk.tokenize import word_tokenize\n",
    "s=PorterStemmer()\n",
    "text=\"This was not the map we found in Billy Bones's chest, but an accurate copy, complete in all things--names and heights and soundings--with the single exception of the red crosses and the written notes.\"\n",
    "words=word_tokenize(text)\n",
    "print(words)"
   ]
  },
  {
   "cell_type": "code",
   "execution_count": 68,
   "metadata": {},
   "outputs": [
    {
     "name": "stdout",
     "output_type": "stream",
     "text": [
      "['thi', 'wa', 'not', 'the', 'map', 'we', 'found', 'in', 'billi', 'bone', \"'s\", 'chest', ',', 'but', 'an', 'accur', 'copi', ',', 'complet', 'in', 'all', 'thing', '--', 'name', 'and', 'height', 'and', 'sound', '--', 'with', 'the', 'singl', 'except', 'of', 'the', 'red', 'cross', 'and', 'the', 'written', 'note', '.']\n"
     ]
    }
   ],
   "source": [
    "print([s.stem(w) for w in words])"
   ]
  },
  {
   "cell_type": "code",
   "execution_count": null,
   "metadata": {},
   "outputs": [],
   "source": []
  }
 ],
 "metadata": {
  "kernelspec": {
   "display_name": "Python 3",
   "language": "python",
   "name": "python3"
  },
  "language_info": {
   "codemirror_mode": {
    "name": "ipython",
    "version": 3
   },
   "file_extension": ".py",
   "mimetype": "text/x-python",
   "name": "python",
   "nbconvert_exporter": "python",
   "pygments_lexer": "ipython3",
   "version": "3.8.3"
  }
 },
 "nbformat": 4,
 "nbformat_minor": 4
}
