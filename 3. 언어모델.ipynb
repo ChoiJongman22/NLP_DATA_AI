{
 "cells": [
  {
   "cell_type": "code",
   "execution_count": null,
   "metadata": {},
   "outputs": [],
   "source": [
    "#한국어에서의 언어모델\n",
    "#한국어 자연어 처리는 영어보다 훨씬 어렵다\n",
    "#1. 한국어는 어순이 중요하지 않다.\n",
    "#2. 한국어는 교착어다. : 그녀와 그녀를 그녀의 그녀로 그녀께서 등 조사가 붙으면 다양한 경우가 생긴다.\n",
    "#3. 힌국어는 띄어쓰기가 제대로 지켜지지 않는다. : 한국어 코퍼스는 띄어쓰기가 잘 지켜지지 않는다. 토큰이 제대로 분리되지 않은채 훈련데이터로 사용된다면 언어모델은 제대로 동작하지 않는다."
   ]
  }
 ],
 "metadata": {
  "kernelspec": {
   "display_name": "Python 3",
   "language": "python",
   "name": "python3"
  },
  "language_info": {
   "codemirror_mode": {
    "name": "ipython",
    "version": 3
   },
   "file_extension": ".py",
   "mimetype": "text/x-python",
   "name": "python",
   "nbconvert_exporter": "python",
   "pygments_lexer": "ipython3",
   "version": "3.8.3"
  }
 },
 "nbformat": 4,
 "nbformat_minor": 4
}
