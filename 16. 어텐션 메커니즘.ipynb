{
 "cells": [
  {
   "cell_type": "code",
   "execution_count": 1,
   "metadata": {},
   "outputs": [
    {
     "name": "stdout",
     "output_type": "stream",
     "text": [
      "Transformer\n"
     ]
    }
   ],
   "source": [
    "#신경망들의 성능을 높이기 위한 메커니즘.\n",
    "\n",
    "#RNN에 기반한 seq2seq모델\n",
    "#인코더 부분에서 입력 시퀀스를 컨텍스트 벡터라는 하나의 고정된 크기의 벡터포현으로 압축하고\n",
    "#디코더는 이 벡터를 통해 출력 시퀀스를 만들어냄.\n",
    "# 문제1: 하나의 고정된 크기의 벡터에 모든 정보를 압축하려고 하니까 정보 손실이 발생\n",
    "# 문제2: RNN의 고질적인 문제인 기울기 소실문제가 존재(Vanishing gradient)\n",
    "\n",
    "#Vanishing Gradient Problem(기울기값이 사라지는 문제)는 인공신경망을 \n",
    "#기울기값을 베이스로 하는 method(backpropagation)로 학습시키려고 할 때 발생되는 어려움이다.\n",
    "\n",
    "#어텐션 아이디어 - 디코더에서 출력 단어를 예측하는 매 시점마다\n",
    "#인코더에서의 전체 입력 문장을 다시 한 번 참고한다는 점,\n",
    "#전체 입력 문장을 전부 다 동일한 비율로 참고하는 것이 아니라, 해당 시점에서 예측해야할 단어와\n",
    "#연관이 있는 입력 단어부분을 좀 더 집중(attention)해서 보게 된다.\n",
    "\n",
    "#Dictionary : Key-Value\n",
    "dict = {\"2017\" : \"Transformer\", \"2018\" : \"BERT\"}\n",
    "print(dict[\"2017\"])"
   ]
  },
  {
   "cell_type": "code",
   "execution_count": 2,
   "metadata": {},
   "outputs": [],
   "source": [
    "#어텐션 함수는 주어진 쿼리(Query)에 대해서 모든 키와의 유사도를 구한다.\n",
    "#이 유사도를 키와 맵핑되어있는 각 Value에 반영한다.\n",
    "#그리고 유사도가 반영된 Value를 모두 더해서 리턴한다.\n",
    "#이를 Attention Value라고 한다.\n"
   ]
  },
  {
   "cell_type": "code",
   "execution_count": 3,
   "metadata": {},
   "outputs": [
    {
     "name": "stdout",
     "output_type": "stream",
     "text": [
      "Downloading data from https://storage.googleapis.com/tensorflow/tf-keras-datasets/imdb.npz\n",
      "17465344/17464789 [==============================] - 1s 0us/step\n",
      "리뷰의 최대 길이 : 2494\n",
      "리뷰의 평균 길이 : 238.71364\n"
     ]
    }
   ],
   "source": [
    "#양방향 LSTM과 어텐션 메커니즘\n",
    "from tensorflow.keras.datasets import imdb\n",
    "#IMDB 리뷰 데이터는 텍스트 분류하기에서 배움.\n",
    "from tensorflow.keras.utils import to_categorical\n",
    "from tensorflow.keras.preprocessing.sequence import pad_sequences\n",
    "\n",
    "vocab_size=10000\n",
    "(X_train, y_train), (X_test, y_test) = imdb.load_data(num_words = vocab_size)\n",
    "#훈련데이터와 레이블이 train으로 이데대한 레이블이 각각 test로 저장\n",
    "#IMDB는 정수 인코딩이 되어있기 때문에(입력층을 거침)\n",
    "#리뷰의 최대 길이와 평균 길이를 확인해보자.\n",
    "\n",
    "print('리뷰의 최대 길이 : {}'.format(max(len(l) for l in X_train)))\n",
    "print('리뷰의 평균 길이 : {}'.format(sum(map(len, X_train))/len(X_train)))"
   ]
  },
  {
   "cell_type": "code",
   "execution_count": null,
   "metadata": {},
   "outputs": [],
   "source": []
  }
 ],
 "metadata": {
  "kernelspec": {
   "display_name": "Python 3",
   "language": "python",
   "name": "python3"
  },
  "language_info": {
   "codemirror_mode": {
    "name": "ipython",
    "version": 3
   },
   "file_extension": ".py",
   "mimetype": "text/x-python",
   "name": "python",
   "nbconvert_exporter": "python",
   "pygments_lexer": "ipython3",
   "version": "3.8.3"
  }
 },
 "nbformat": 4,
 "nbformat_minor": 4
}
